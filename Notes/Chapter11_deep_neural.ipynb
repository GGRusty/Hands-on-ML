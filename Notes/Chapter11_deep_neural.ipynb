{
 "cells": [
  {
   "cell_type": "code",
   "execution_count": 101,
   "metadata": {},
   "outputs": [],
   "source": [
    "import math\n",
    "import numpy as np\n",
    "import tensorflow as tf\n",
    "\n",
    "import matplotlib.pyplot as plt\n",
    "\n",
    "plt.rc(\"font\", size=14)\n",
    "plt.rc(\"axes\", labelsize=14, titlesize=14)\n",
    "plt.rc(\"legend\", fontsize=14)\n",
    "plt.rc(\"xtick\", labelsize=10)\n",
    "plt.rc(\"ytick\", labelsize=10)\n",
    "from pathlib import Path\n",
    "\n",
    "IMAGES_PATH = Path() / \"images\" / \"deep\"\n",
    "IMAGES_PATH.mkdir(parents=True, exist_ok=True)"
   ]
  },
  {
   "cell_type": "code",
   "execution_count": 37,
   "metadata": {},
   "outputs": [],
   "source": [
    "# by default, the kernel_initializer is 'glorot_uniform'\n",
    "dense = tf.keras.layers.Dense(50, activation=\"relu\", kernel_initializer=\"he_normal\")"
   ]
  },
  {
   "cell_type": "code",
   "execution_count": 38,
   "metadata": {},
   "outputs": [],
   "source": [
    "# if you want He initialization with uniform distribution based on fan_avg rather than fan_in (default)\n",
    "he_avg_init = tf.keras.initializers.VarianceScaling(\n",
    "    scale=2.0, mode=\"fan_avg\", distribution=\"uniform\"\n",
    ")\n",
    "dense = tf.keras.layers.Dense(50, activation=\"sigmoid\", kernel_initializer=he_avg_init)"
   ]
  },
  {
   "cell_type": "code",
   "execution_count": 39,
   "metadata": {},
   "outputs": [],
   "source": [
    "# keras includes the classes for LeakyReLU and PReLU in tf.keras.layers you should use He initialization with these\n",
    "leaky_relu = tf.keras.layers.LeakyReLU(alpha=0.2)  # default alpha is 0.3\n",
    "dense = tf.keras.layers.Dense(50, activation=leaky_relu, kernel_initializer=\"he_normal\")"
   ]
  },
  {
   "cell_type": "code",
   "execution_count": 40,
   "metadata": {},
   "outputs": [],
   "source": [
    "# if you prefer you can also use leaky_relu as a separate layer; it makes no difference in terms of performance\n",
    "model = tf.keras.models.Sequential(\n",
    "    [\n",
    "        # more layers here\n",
    "        tf.keras.layers.Dense(\n",
    "            30, kernel_initializer=\"he_normal\"\n",
    "        ),  # no activation function\n",
    "        tf.keras.layers.LeakyReLU(\n",
    "            alpha=0.2\n",
    "        ),  # this gives activation as a separate layer\n",
    "        # more layers here\n",
    "    ]\n",
    ")"
   ]
  },
  {
   "cell_type": "code",
   "execution_count": 41,
   "metadata": {},
   "outputs": [],
   "source": [
    "# the following are some smooth activation functions that are variants of ReLU\n",
    "# activation='elu' is the exponential linear unit it is slower to compute but its faster to converge during training\n",
    "# below is an example of a self regularized network using SELU\n",
    "tf.random.set_seed(42)\n",
    "tf.keras.backend.clear_session()\n",
    "model = tf.keras.Sequential()\n",
    "model.add(tf.keras.layers.Flatten(input_shape=[28, 28]))\n",
    "for layer in range(100):\n",
    "    model.add(\n",
    "        tf.keras.layers.Dense(100, activation=\"selu\", kernel_initializer=\"lecun_normal\")\n",
    "    )\n",
    "model.add(tf.keras.layers.Dense(10, activation=\"softmax\"))"
   ]
  },
  {
   "cell_type": "code",
   "execution_count": 42,
   "metadata": {},
   "outputs": [],
   "source": [
    "model.compile(\n",
    "    loss=\"sparse_categorical_crossentropy\",\n",
    "    optimizer=tf.keras.optimizers.SGD(learning_rate=0.001),\n",
    "    metrics=[\"accuracy\"],\n",
    ")"
   ]
  },
  {
   "cell_type": "code",
   "execution_count": 43,
   "metadata": {},
   "outputs": [],
   "source": [
    "fashion_mnist = tf.keras.datasets.fashion_mnist.load_data()\n",
    "(X_train_full, y_train_full), (X_test, y_test) = fashion_mnist\n",
    "X_train, y_train = X_train_full[:-5000], y_train_full[:-5000]\n",
    "X_valid, y_valid = X_train_full[-5000:], y_train_full[-5000:]\n",
    "X_train, X_valid, X_test = X_train / 255, X_valid / 255, X_test / 255\n",
    "\n",
    "class_names = [\n",
    "    \"T-shirt/top\",\n",
    "    \"Trouser\",\n",
    "    \"Pullover\",\n",
    "    \"Dress\",\n",
    "    \"Coat\",\n",
    "    \"Sandal\",\n",
    "    \"Shirt\",\n",
    "    \"Sneaker\",\n",
    "    \"Bag\",\n",
    "    \"Ankle boot\",\n",
    "]\n",
    "\n",
    "# this scales the inputs to mean 0 and standard deviation 1\n",
    "pixel_means = X_train.mean(axis=0, keepdims=True)\n",
    "pixel_stds = X_train.std(axis=0, keepdims=True)\n",
    "X_train_scaled = (X_train - pixel_means) / pixel_stds\n",
    "X_valid_scaled = (X_valid - pixel_means) / pixel_stds\n",
    "X_test_scaled = (X_test - pixel_means) / pixel_stds"
   ]
  },
  {
   "cell_type": "code",
   "execution_count": 44,
   "metadata": {},
   "outputs": [
    {
     "name": "stdout",
     "output_type": "stream",
     "text": [
      "Epoch 1/5\n",
      "1719/1719 [==============================] - 24s 9ms/step - loss: 1.2552 - accuracy: 0.5072 - val_loss: 0.8132 - val_accuracy: 0.6916\n",
      "Epoch 2/5\n",
      "1719/1719 [==============================] - 16s 9ms/step - loss: 0.7585 - accuracy: 0.7207 - val_loss: 0.6655 - val_accuracy: 0.7634\n",
      "Epoch 3/5\n",
      "1719/1719 [==============================] - 16s 10ms/step - loss: 0.6149 - accuracy: 0.7735 - val_loss: 0.5611 - val_accuracy: 0.7986\n",
      "Epoch 4/5\n",
      "1719/1719 [==============================] - 17s 10ms/step - loss: 0.5679 - accuracy: 0.7947 - val_loss: 0.5283 - val_accuracy: 0.8106\n",
      "Epoch 5/5\n",
      "1719/1719 [==============================] - 17s 10ms/step - loss: 0.5152 - accuracy: 0.8157 - val_loss: 0.5302 - val_accuracy: 0.8120\n"
     ]
    }
   ],
   "source": [
    "history = model.fit(\n",
    "    X_train_scaled, y_train, epochs=5, validation_data=(X_valid_scaled, y_valid)\n",
    ")"
   ]
  },
  {
   "cell_type": "code",
   "execution_count": 45,
   "metadata": {},
   "outputs": [
    {
     "name": "stdout",
     "output_type": "stream",
     "text": [
      "Epoch 1/5\n",
      "1719/1719 [==============================] - 21s 9ms/step - loss: 1.9827 - accuracy: 0.2238 - val_loss: 1.6869 - val_accuracy: 0.2828\n",
      "Epoch 2/5\n",
      "1719/1719 [==============================] - 16s 9ms/step - loss: 1.3951 - accuracy: 0.4134 - val_loss: 1.1428 - val_accuracy: 0.4922\n",
      "Epoch 3/5\n",
      "1719/1719 [==============================] - 15s 8ms/step - loss: 1.1609 - accuracy: 0.5150 - val_loss: 1.1663 - val_accuracy: 0.4994\n",
      "Epoch 4/5\n",
      "1719/1719 [==============================] - 14s 8ms/step - loss: 0.9070 - accuracy: 0.6369 - val_loss: 0.8881 - val_accuracy: 0.6218\n",
      "Epoch 5/5\n",
      "1719/1719 [==============================] - 16s 9ms/step - loss: 0.8164 - accuracy: 0.6732 - val_loss: 0.7413 - val_accuracy: 0.7082\n"
     ]
    }
   ],
   "source": [
    "tf.random.set_seed(42)\n",
    "model = tf.keras.Sequential()\n",
    "model.add(tf.keras.layers.Flatten(input_shape=[28, 28]))\n",
    "for layer in range(100):\n",
    "    model.add(\n",
    "        tf.keras.layers.Dense(100, activation=\"relu\", kernel_initializer=\"he_normal\")\n",
    "    )\n",
    "model.add(tf.keras.layers.Dense(10, activation=\"softmax\"))\n",
    "\n",
    "model.compile(\n",
    "    loss=\"sparse_categorical_crossentropy\",\n",
    "    optimizer=tf.keras.optimizers.SGD(learning_rate=0.001),\n",
    "    metrics=[\"accuracy\"],\n",
    ")\n",
    "history = model.fit(\n",
    "    X_train_scaled, y_train, epochs=5, validation_data=(X_valid_scaled, y_valid)\n",
    ")\n",
    "# not the best we suffered om vanishing gradients and exploding gradients"
   ]
  },
  {
   "cell_type": "markdown",
   "metadata": {},
   "source": [
    "BATCH NORMILIZATION"
   ]
  },
  {
   "cell_type": "code",
   "execution_count": 46,
   "metadata": {},
   "outputs": [],
   "source": [
    "tf.keras.backend.clear_session()\n",
    "tf.random.set_seed(42)"
   ]
  },
  {
   "cell_type": "code",
   "execution_count": 47,
   "metadata": {},
   "outputs": [
    {
     "name": "stdout",
     "output_type": "stream",
     "text": [
      "Model: \"sequential\"\n",
      "_________________________________________________________________\n",
      " Layer (type)                Output Shape              Param #   \n",
      "=================================================================\n",
      " flatten (Flatten)           (None, 784)               0         \n",
      "                                                                 \n",
      " batch_normalization (BatchN  (None, 784)              3136      \n",
      " ormalization)                                                   \n",
      "                                                                 \n",
      " dense (Dense)               (None, 300)               235500    \n",
      "                                                                 \n",
      " batch_normalization_1 (Batc  (None, 300)              1200      \n",
      " hNormalization)                                                 \n",
      "                                                                 \n",
      " dense_1 (Dense)             (None, 100)               30100     \n",
      "                                                                 \n",
      " batch_normalization_2 (Batc  (None, 100)              400       \n",
      " hNormalization)                                                 \n",
      "                                                                 \n",
      " dense_2 (Dense)             (None, 10)                1010      \n",
      "                                                                 \n",
      "=================================================================\n",
      "Total params: 271,346\n",
      "Trainable params: 268,978\n",
      "Non-trainable params: 2,368\n",
      "_________________________________________________________________\n"
     ]
    }
   ],
   "source": [
    "# this is a simple way to implement batch normalization it works better on deeper networks this is after the activation function\n",
    "model = tf.keras.Sequential(\n",
    "    [\n",
    "        tf.keras.layers.Flatten(input_shape=[28, 28]),\n",
    "        tf.keras.layers.BatchNormalization(),\n",
    "        tf.keras.layers.Dense(300, activation=\"relu\", kernel_initializer=\"he_normal\"),\n",
    "        tf.keras.layers.BatchNormalization(),\n",
    "        tf.keras.layers.Dense(100, activation=\"relu\", kernel_initializer=\"he_normal\"),\n",
    "        tf.keras.layers.BatchNormalization(),\n",
    "        tf.keras.layers.Dense(10, activation=\"softmax\"),\n",
    "    ]\n",
    ")\n",
    "model.summary()"
   ]
  },
  {
   "cell_type": "code",
   "execution_count": 48,
   "metadata": {},
   "outputs": [
    {
     "data": {
      "text/plain": [
       "[('batch_normalization/gamma:0', True),\n",
       " ('batch_normalization/beta:0', True),\n",
       " ('batch_normalization/moving_mean:0', False),\n",
       " ('batch_normalization/moving_variance:0', False)]"
      ]
     },
     "execution_count": 48,
     "metadata": {},
     "output_type": "execute_result"
    }
   ],
   "source": [
    "[(var.name, var.trainable) for var in model.layers[1].variables]"
   ]
  },
  {
   "cell_type": "code",
   "execution_count": 49,
   "metadata": {},
   "outputs": [
    {
     "name": "stdout",
     "output_type": "stream",
     "text": [
      "Epoch 1/2\n",
      "1719/1719 [==============================] - 7s 4ms/step - loss: 0.5494 - accuracy: 0.8102 - val_loss: 0.3933 - val_accuracy: 0.8556\n",
      "Epoch 2/2\n",
      "1719/1719 [==============================] - 5s 3ms/step - loss: 0.4050 - accuracy: 0.8559 - val_loss: 0.3563 - val_accuracy: 0.8686\n"
     ]
    },
    {
     "data": {
      "text/plain": [
       "<keras.callbacks.History at 0x137a97550>"
      ]
     },
     "execution_count": 49,
     "metadata": {},
     "output_type": "execute_result"
    }
   ],
   "source": [
    "model.compile(\n",
    "    loss=\"sparse_categorical_crossentropy\", optimizer=\"sgd\", metrics=\"accuracy\"\n",
    ")\n",
    "model.fit(X_train, y_train, epochs=2, validation_data=(X_valid, y_valid))"
   ]
  },
  {
   "cell_type": "code",
   "execution_count": 50,
   "metadata": {},
   "outputs": [],
   "source": [
    "tf.keras.backend.clear_session()\n",
    "tf.random.set_seed(42)"
   ]
  },
  {
   "cell_type": "code",
   "execution_count": 51,
   "metadata": {},
   "outputs": [],
   "source": [
    "# if you want to use batch normalization before the activation function you need to add the activation function manually\n",
    "model = tf.keras.Sequential(\n",
    "    [\n",
    "        tf.keras.layers.Flatten(input_shape=[28, 28]),\n",
    "        tf.keras.layers.Dense(300, kernel_initializer=\"he_normal\", use_bias=False),\n",
    "        tf.keras.layers.BatchNormalization(),\n",
    "        tf.keras.layers.Activation(\"relu\"),\n",
    "        tf.keras.layers.Dense(100, kernel_initializer=\"he_normal\", use_bias=False),\n",
    "        tf.keras.layers.BatchNormalization(),\n",
    "        tf.keras.layers.Activation(\"relu\"),\n",
    "        tf.keras.layers.Dense(10, activation=\"softmax\"),\n",
    "    ]\n",
    ")"
   ]
  },
  {
   "cell_type": "code",
   "execution_count": 52,
   "metadata": {},
   "outputs": [],
   "source": [
    "# gradient clipping is another way to mitigate the exploding gradients problem\n",
    "# typically used in recurrent neural networks where batch normalization is tricky to use\n",
    "optimizer = tf.keras.optimizers.SGD(clipvalue=1.0)\n",
    "model.compile(\n",
    "    loss=\"sparse_categorical_crossentropy\",\n",
    "    optimizer=optimizer,\n",
    ")"
   ]
  },
  {
   "cell_type": "code",
   "execution_count": 53,
   "metadata": {},
   "outputs": [],
   "source": [
    "optimizer = tf.keras.optimizers.SGD(clipnorm=1.0)\n",
    "model.compile(\n",
    "    loss=\"sparse_categorical_crossentropy\",\n",
    "    optimizer=optimizer,\n",
    ")\n",
    "# this makes sure that when you clip the gradients the direction is preserved"
   ]
  },
  {
   "cell_type": "code",
   "execution_count": 54,
   "metadata": {},
   "outputs": [
    {
     "name": "stdout",
     "output_type": "stream",
     "text": [
      "Epoch 1/20\n",
      "1376/1376 [==============================] - 3s 2ms/step - loss: 1.1773 - accuracy: 0.6206 - val_loss: 0.6867 - val_accuracy: 0.7887\n",
      "Epoch 2/20\n",
      "1376/1376 [==============================] - 2s 2ms/step - loss: 0.5868 - accuracy: 0.8166 - val_loss: 0.4981 - val_accuracy: 0.8391\n",
      "Epoch 3/20\n",
      "1376/1376 [==============================] - 2s 2ms/step - loss: 0.4680 - accuracy: 0.8547 - val_loss: 0.4277 - val_accuracy: 0.8551\n",
      "Epoch 4/20\n",
      "1376/1376 [==============================] - 2s 2ms/step - loss: 0.4109 - accuracy: 0.8681 - val_loss: 0.3862 - val_accuracy: 0.8739\n",
      "Epoch 5/20\n",
      "1376/1376 [==============================] - 2s 1ms/step - loss: 0.3762 - accuracy: 0.8766 - val_loss: 0.3610 - val_accuracy: 0.8764\n",
      "Epoch 6/20\n",
      "1376/1376 [==============================] - 2s 1ms/step - loss: 0.3526 - accuracy: 0.8820 - val_loss: 0.3437 - val_accuracy: 0.8792\n",
      "Epoch 7/20\n",
      "1376/1376 [==============================] - 2s 1ms/step - loss: 0.3357 - accuracy: 0.8870 - val_loss: 0.3299 - val_accuracy: 0.8824\n",
      "Epoch 8/20\n",
      "1376/1376 [==============================] - 2s 2ms/step - loss: 0.3220 - accuracy: 0.8910 - val_loss: 0.3255 - val_accuracy: 0.8879\n",
      "Epoch 9/20\n",
      "1376/1376 [==============================] - 2s 1ms/step - loss: 0.3112 - accuracy: 0.8938 - val_loss: 0.3113 - val_accuracy: 0.8920\n",
      "Epoch 10/20\n",
      "1376/1376 [==============================] - 2s 1ms/step - loss: 0.3017 - accuracy: 0.8970 - val_loss: 0.3080 - val_accuracy: 0.8925\n",
      "Epoch 11/20\n",
      "1376/1376 [==============================] - 2s 1ms/step - loss: 0.2935 - accuracy: 0.9000 - val_loss: 0.3023 - val_accuracy: 0.8945\n",
      "Epoch 12/20\n",
      "1376/1376 [==============================] - 2s 2ms/step - loss: 0.2867 - accuracy: 0.9018 - val_loss: 0.3012 - val_accuracy: 0.8970\n",
      "Epoch 13/20\n",
      "1376/1376 [==============================] - 2s 1ms/step - loss: 0.2811 - accuracy: 0.9043 - val_loss: 0.2907 - val_accuracy: 0.9020\n",
      "Epoch 14/20\n",
      "1376/1376 [==============================] - 2s 1ms/step - loss: 0.2753 - accuracy: 0.9053 - val_loss: 0.2845 - val_accuracy: 0.9025\n",
      "Epoch 15/20\n",
      "1376/1376 [==============================] - 2s 1ms/step - loss: 0.2705 - accuracy: 0.9079 - val_loss: 0.2812 - val_accuracy: 0.9020\n",
      "Epoch 16/20\n",
      "1376/1376 [==============================] - 2s 1ms/step - loss: 0.2658 - accuracy: 0.9093 - val_loss: 0.2793 - val_accuracy: 0.9027\n",
      "Epoch 17/20\n",
      "1376/1376 [==============================] - 2s 1ms/step - loss: 0.2618 - accuracy: 0.9107 - val_loss: 0.2753 - val_accuracy: 0.9042\n",
      "Epoch 18/20\n",
      "1376/1376 [==============================] - 2s 1ms/step - loss: 0.2573 - accuracy: 0.9121 - val_loss: 0.2778 - val_accuracy: 0.9037\n",
      "Epoch 19/20\n",
      "1376/1376 [==============================] - 2s 1ms/step - loss: 0.2539 - accuracy: 0.9133 - val_loss: 0.2694 - val_accuracy: 0.9100\n",
      "Epoch 20/20\n",
      "1376/1376 [==============================] - 2s 2ms/step - loss: 0.2503 - accuracy: 0.9147 - val_loss: 0.2690 - val_accuracy: 0.9085\n"
     ]
    },
    {
     "name": "stderr",
     "output_type": "stream",
     "text": [
      "WARNING:absl:Found untraced functions such as _update_step_xla while saving (showing 1 of 1). These functions will not be directly callable after loading.\n"
     ]
    },
    {
     "name": "stdout",
     "output_type": "stream",
     "text": [
      "INFO:tensorflow:Assets written to: my_model_A/assets\n"
     ]
    },
    {
     "name": "stderr",
     "output_type": "stream",
     "text": [
      "INFO:tensorflow:Assets written to: my_model_A/assets\n"
     ]
    }
   ],
   "source": [
    "# generally it is not a good idea to train a very deep neural network from scratch you can use transfer learning instead which takes a pretrained neural network and reuses its lower layers then you can add your own layers to the top of the pretrained network\n",
    "# the more similar the tasks are the more layers you want to reuse\n",
    "\n",
    "# extra code – split Fashion MNIST into tasks A and B, then train and save\n",
    "#              model A to \"my_model_A\".\n",
    "tf.keras.backend.clear_session()\n",
    "tf.random.set_seed(42)\n",
    "pos_class_id = class_names.index(\"Pullover\")\n",
    "neg_class_id = class_names.index(\"T-shirt/top\")\n",
    "\n",
    "\n",
    "def split_dataset(X, y):\n",
    "    y_for_B = (y == pos_class_id) | (y == neg_class_id)\n",
    "    y_A = y[~y_for_B]\n",
    "    y_B = (y[y_for_B] == pos_class_id).astype(np.float32)\n",
    "    old_class_ids = list(set(range(10)) - set([neg_class_id, pos_class_id]))\n",
    "    for old_class_id, new_class_id in zip(old_class_ids, range(8)):\n",
    "        y_A[y_A == old_class_id] = new_class_id  # reorder class ids for A\n",
    "    return ((X[~y_for_B], y_A), (X[y_for_B], y_B))\n",
    "\n",
    "\n",
    "(X_train_A, y_train_A), (X_train_B, y_train_B) = split_dataset(X_train, y_train)\n",
    "(X_valid_A, y_valid_A), (X_valid_B, y_valid_B) = split_dataset(X_valid, y_valid)\n",
    "(X_test_A, y_test_A), (X_test_B, y_test_B) = split_dataset(X_test, y_test)\n",
    "X_train_B = X_train_B[:200]\n",
    "y_train_B = y_train_B[:200]\n",
    "\n",
    "tf.random.set_seed(42)\n",
    "\n",
    "model_A = tf.keras.Sequential(\n",
    "    [\n",
    "        tf.keras.layers.Flatten(input_shape=[28, 28]),\n",
    "        tf.keras.layers.Dense(100, activation=\"relu\", kernel_initializer=\"he_normal\"),\n",
    "        tf.keras.layers.Dense(100, activation=\"relu\", kernel_initializer=\"he_normal\"),\n",
    "        tf.keras.layers.Dense(100, activation=\"relu\", kernel_initializer=\"he_normal\"),\n",
    "        tf.keras.layers.Dense(8, activation=\"softmax\"),\n",
    "    ]\n",
    ")\n",
    "\n",
    "model_A.compile(\n",
    "    loss=\"sparse_categorical_crossentropy\",\n",
    "    optimizer=tf.keras.optimizers.SGD(learning_rate=0.001),\n",
    "    metrics=[\"accuracy\"],\n",
    ")\n",
    "history = model_A.fit(\n",
    "    X_train_A, y_train_A, epochs=20, validation_data=(X_valid_A, y_valid_A)\n",
    ")\n",
    "model_A.save(\"my_model_A\")"
   ]
  },
  {
   "cell_type": "code",
   "execution_count": 55,
   "metadata": {},
   "outputs": [
    {
     "name": "stdout",
     "output_type": "stream",
     "text": [
      "Epoch 1/20\n",
      "7/7 [==============================] - 1s 33ms/step - loss: 0.6006 - accuracy: 0.6150 - val_loss: 0.5948 - val_accuracy: 0.6686\n",
      "Epoch 2/20\n",
      "7/7 [==============================] - 0s 11ms/step - loss: 0.5795 - accuracy: 0.6850 - val_loss: 0.5764 - val_accuracy: 0.7339\n",
      "Epoch 3/20\n",
      "7/7 [==============================] - 0s 10ms/step - loss: 0.5619 - accuracy: 0.7700 - val_loss: 0.5611 - val_accuracy: 0.7705\n",
      "Epoch 4/20\n",
      "7/7 [==============================] - 0s 11ms/step - loss: 0.5448 - accuracy: 0.8100 - val_loss: 0.5456 - val_accuracy: 0.8091\n",
      "Epoch 5/20\n",
      "7/7 [==============================] - 0s 10ms/step - loss: 0.5291 - accuracy: 0.8650 - val_loss: 0.5295 - val_accuracy: 0.8556\n",
      "Epoch 6/20\n",
      "7/7 [==============================] - 0s 11ms/step - loss: 0.5127 - accuracy: 0.8900 - val_loss: 0.5135 - val_accuracy: 0.8833\n",
      "Epoch 7/20\n",
      "7/7 [==============================] - 0s 11ms/step - loss: 0.4963 - accuracy: 0.9150 - val_loss: 0.4981 - val_accuracy: 0.9031\n",
      "Epoch 8/20\n",
      "7/7 [==============================] - 0s 11ms/step - loss: 0.4817 - accuracy: 0.9250 - val_loss: 0.4844 - val_accuracy: 0.9110\n",
      "Epoch 9/20\n",
      "7/7 [==============================] - 0s 11ms/step - loss: 0.4670 - accuracy: 0.9400 - val_loss: 0.4717 - val_accuracy: 0.9130\n",
      "Epoch 10/20\n",
      "7/7 [==============================] - 0s 11ms/step - loss: 0.4535 - accuracy: 0.9400 - val_loss: 0.4598 - val_accuracy: 0.9139\n",
      "Epoch 11/20\n",
      "7/7 [==============================] - 0s 11ms/step - loss: 0.4405 - accuracy: 0.9400 - val_loss: 0.4481 - val_accuracy: 0.9209\n",
      "Epoch 12/20\n",
      "7/7 [==============================] - 0s 11ms/step - loss: 0.4278 - accuracy: 0.9450 - val_loss: 0.4366 - val_accuracy: 0.9238\n",
      "Epoch 13/20\n",
      "7/7 [==============================] - 0s 11ms/step - loss: 0.4158 - accuracy: 0.9500 - val_loss: 0.4268 - val_accuracy: 0.9268\n",
      "Epoch 14/20\n",
      "7/7 [==============================] - 0s 10ms/step - loss: 0.4050 - accuracy: 0.9500 - val_loss: 0.4170 - val_accuracy: 0.9298\n",
      "Epoch 15/20\n",
      "7/7 [==============================] - 0s 11ms/step - loss: 0.3948 - accuracy: 0.9500 - val_loss: 0.4075 - val_accuracy: 0.9298\n",
      "Epoch 16/20\n",
      "7/7 [==============================] - 0s 10ms/step - loss: 0.3848 - accuracy: 0.9550 - val_loss: 0.3987 - val_accuracy: 0.9298\n",
      "Epoch 17/20\n",
      "7/7 [==============================] - 0s 10ms/step - loss: 0.3755 - accuracy: 0.9550 - val_loss: 0.3903 - val_accuracy: 0.9298\n",
      "Epoch 18/20\n",
      "7/7 [==============================] - 0s 10ms/step - loss: 0.3666 - accuracy: 0.9550 - val_loss: 0.3815 - val_accuracy: 0.9347\n",
      "Epoch 19/20\n",
      "7/7 [==============================] - 0s 11ms/step - loss: 0.3576 - accuracy: 0.9500 - val_loss: 0.3736 - val_accuracy: 0.9367\n",
      "Epoch 20/20\n",
      "7/7 [==============================] - 0s 11ms/step - loss: 0.3495 - accuracy: 0.9500 - val_loss: 0.3668 - val_accuracy: 0.9387\n",
      "63/63 [==============================] - 0s 1ms/step - loss: 0.3809 - accuracy: 0.9250\n"
     ]
    },
    {
     "data": {
      "text/plain": [
       "[0.3808637261390686, 0.925000011920929]"
      ]
     },
     "execution_count": 55,
     "metadata": {},
     "output_type": "execute_result"
    }
   ],
   "source": [
    "# extra code – train and evaluate model B, without reusing model A\n",
    "tf.random.set_seed(42)\n",
    "model_B = tf.keras.Sequential(\n",
    "    [\n",
    "        tf.keras.layers.Flatten(input_shape=[28, 28]),\n",
    "        tf.keras.layers.Dense(100, activation=\"relu\", kernel_initializer=\"he_normal\"),\n",
    "        tf.keras.layers.Dense(100, activation=\"relu\", kernel_initializer=\"he_normal\"),\n",
    "        tf.keras.layers.Dense(100, activation=\"relu\", kernel_initializer=\"he_normal\"),\n",
    "        tf.keras.layers.Dense(1, activation=\"sigmoid\"),\n",
    "    ]\n",
    ")\n",
    "\n",
    "model_B.compile(\n",
    "    loss=\"binary_crossentropy\",\n",
    "    optimizer=tf.keras.optimizers.SGD(learning_rate=0.001),\n",
    "    metrics=[\"accuracy\"],\n",
    ")\n",
    "history = model_B.fit(\n",
    "    X_train_B, y_train_B, epochs=20, validation_data=(X_valid_B, y_valid_B)\n",
    ")\n",
    "model_B.evaluate(X_test_B, y_test_B)"
   ]
  },
  {
   "cell_type": "code",
   "execution_count": 56,
   "metadata": {},
   "outputs": [],
   "source": [
    "# this reuses all the layers except for the output layer\n",
    "model_A = tf.keras.models.load_model(\"my_model_A\")\n",
    "model_B_on_A = tf.keras.Sequential(model_A.layers[:-1])\n",
    "model_B_on_A.add(tf.keras.layers.Dense(1, activation=\"sigmoid\"))"
   ]
  },
  {
   "cell_type": "code",
   "execution_count": 57,
   "metadata": {},
   "outputs": [],
   "source": [
    "# model a and b share some layers when you train model b on a it will also affect model a if you want to avoid this you need to clone model a before you reuse its layers\n",
    "tf.random.set_seed(42)\n",
    "model_A_clone = tf.keras.models.clone_model(model_A)\n",
    "model_A_clone.set_weights(model_A.get_weights())\n",
    "# tf.keras.models.clone_model() only clones the achitecture not the weights so we need to copy the weights manually\n",
    "model_B_on_A = tf.keras.Sequential(model_A_clone.layers[:-1])\n",
    "model_B_on_A.add(tf.keras.layers.Dense(1, activation=\"sigmoid\"))"
   ]
  },
  {
   "cell_type": "code",
   "execution_count": 58,
   "metadata": {},
   "outputs": [],
   "source": [
    "for layer in model_B_on_A.layers[:-1]:\n",
    "    layer.trainable = False\n",
    "\n",
    "optimizer = tf.keras.optimizers.SGD(learning_rate=0.001)\n",
    "model_B_on_A.compile(\n",
    "    loss=\"binary_crossentropy\", optimizer=optimizer, metrics=[\"accuracy\"]\n",
    ")\n",
    "# you must always compile your model after you freeze or unfreeze layers"
   ]
  },
  {
   "cell_type": "code",
   "execution_count": 59,
   "metadata": {},
   "outputs": [
    {
     "name": "stdout",
     "output_type": "stream",
     "text": [
      "Epoch 1/4\n",
      "7/7 [==============================] - 1s 32ms/step - loss: 1.5258 - accuracy: 0.4450 - val_loss: 0.9138 - val_accuracy: 0.4857\n",
      "Epoch 2/4\n",
      "7/7 [==============================] - 0s 11ms/step - loss: 0.8726 - accuracy: 0.4550 - val_loss: 0.7084 - val_accuracy: 0.6034\n",
      "Epoch 3/4\n",
      "7/7 [==============================] - 0s 11ms/step - loss: 0.7345 - accuracy: 0.5950 - val_loss: 0.6903 - val_accuracy: 0.5668\n",
      "Epoch 4/4\n",
      "7/7 [==============================] - 0s 10ms/step - loss: 0.6985 - accuracy: 0.5650 - val_loss: 0.6755 - val_accuracy: 0.5796\n",
      "Epoch 1/16\n",
      "7/7 [==============================] - 1s 30ms/step - loss: 0.6456 - accuracy: 0.6350 - val_loss: 0.5773 - val_accuracy: 0.7646\n",
      "Epoch 2/16\n",
      "7/7 [==============================] - 0s 10ms/step - loss: 0.5612 - accuracy: 0.7350 - val_loss: 0.5022 - val_accuracy: 0.8220\n",
      "Epoch 3/16\n",
      "7/7 [==============================] - 0s 10ms/step - loss: 0.4832 - accuracy: 0.8200 - val_loss: 0.4727 - val_accuracy: 0.8091\n",
      "Epoch 4/16\n",
      "7/7 [==============================] - 0s 10ms/step - loss: 0.4250 - accuracy: 0.8550 - val_loss: 0.4223 - val_accuracy: 0.8675\n",
      "Epoch 5/16\n",
      "7/7 [==============================] - 0s 10ms/step - loss: 0.3855 - accuracy: 0.8950 - val_loss: 0.3895 - val_accuracy: 0.8882\n",
      "Epoch 6/16\n",
      "7/7 [==============================] - 0s 10ms/step - loss: 0.3495 - accuracy: 0.9250 - val_loss: 0.3546 - val_accuracy: 0.9070\n",
      "Epoch 7/16\n",
      "7/7 [==============================] - 0s 10ms/step - loss: 0.3220 - accuracy: 0.9400 - val_loss: 0.3369 - val_accuracy: 0.9100\n",
      "Epoch 8/16\n",
      "7/7 [==============================] - 0s 10ms/step - loss: 0.3086 - accuracy: 0.9400 - val_loss: 0.3166 - val_accuracy: 0.9238\n",
      "Epoch 9/16\n",
      "7/7 [==============================] - 0s 10ms/step - loss: 0.2839 - accuracy: 0.9600 - val_loss: 0.3026 - val_accuracy: 0.9248\n",
      "Epoch 10/16\n",
      "7/7 [==============================] - 0s 10ms/step - loss: 0.2690 - accuracy: 0.9650 - val_loss: 0.2900 - val_accuracy: 0.9268\n",
      "Epoch 11/16\n",
      "7/7 [==============================] - 0s 10ms/step - loss: 0.2574 - accuracy: 0.9650 - val_loss: 0.2796 - val_accuracy: 0.9308\n",
      "Epoch 12/16\n",
      "7/7 [==============================] - 0s 10ms/step - loss: 0.2456 - accuracy: 0.9650 - val_loss: 0.2694 - val_accuracy: 0.9318\n",
      "Epoch 13/16\n",
      "7/7 [==============================] - 0s 10ms/step - loss: 0.2349 - accuracy: 0.9650 - val_loss: 0.2649 - val_accuracy: 0.9318\n",
      "Epoch 14/16\n",
      "7/7 [==============================] - 0s 10ms/step - loss: 0.2279 - accuracy: 0.9650 - val_loss: 0.2581 - val_accuracy: 0.9347\n",
      "Epoch 15/16\n",
      "7/7 [==============================] - 0s 10ms/step - loss: 0.2205 - accuracy: 0.9650 - val_loss: 0.2495 - val_accuracy: 0.9327\n",
      "Epoch 16/16\n",
      "7/7 [==============================] - 0s 10ms/step - loss: 0.2128 - accuracy: 0.9600 - val_loss: 0.2448 - val_accuracy: 0.9357\n"
     ]
    }
   ],
   "source": [
    "# we are now going to train the model then unfree the hidden layers and train again after unfreezing it is a good idea to reduce the learning rate to avoid damaging the reused weights\n",
    "history = model_B_on_A.fit(\n",
    "    X_train_B, y_train_B, epochs=4, validation_data=(X_valid_B, y_valid_B)\n",
    ")\n",
    "\n",
    "for layer in model_B_on_A.layers[:-1]:\n",
    "    layer.trainable = True\n",
    "\n",
    "optimizer = tf.keras.optimizers.SGD(learning_rate=0.001)\n",
    "model_B_on_A.compile(\n",
    "    loss=\"binary_crossentropy\", optimizer=optimizer, metrics=[\"accuracy\"]\n",
    ")\n",
    "history = model_B_on_A.fit(\n",
    "    X_train_B, y_train_B, epochs=16, validation_data=(X_valid_B, y_valid_B)\n",
    ")"
   ]
  },
  {
   "cell_type": "code",
   "execution_count": 60,
   "metadata": {},
   "outputs": [
    {
     "name": "stdout",
     "output_type": "stream",
     "text": [
      "63/63 [==============================] - 0s 1ms/step - loss: 0.2456 - accuracy: 0.9405\n"
     ]
    },
    {
     "data": {
      "text/plain": [
       "[0.2455647736787796, 0.940500020980835]"
      ]
     },
     "execution_count": 60,
     "metadata": {},
     "output_type": "execute_result"
    }
   ],
   "source": [
    "model_B_on_A.evaluate(X_test_B, y_test_B)"
   ]
  },
  {
   "cell_type": "code",
   "execution_count": 61,
   "metadata": {},
   "outputs": [],
   "source": [
    "# extra code – a little function to test an optimizer on Fashion MNIST\n",
    "\n",
    "\n",
    "def build_model(seed=42):\n",
    "    tf.keras.backend.clear_session()\n",
    "    tf.random.set_seed(seed)\n",
    "    return tf.keras.Sequential(\n",
    "        [\n",
    "            tf.keras.layers.Flatten(input_shape=[28, 28]),\n",
    "            tf.keras.layers.Dense(\n",
    "                100, activation=\"relu\", kernel_initializer=\"he_normal\"\n",
    "            ),\n",
    "            tf.keras.layers.Dense(\n",
    "                100, activation=\"relu\", kernel_initializer=\"he_normal\"\n",
    "            ),\n",
    "            tf.keras.layers.Dense(\n",
    "                100, activation=\"relu\", kernel_initializer=\"he_normal\"\n",
    "            ),\n",
    "            tf.keras.layers.Dense(10, activation=\"softmax\"),\n",
    "        ]\n",
    "    )\n",
    "\n",
    "\n",
    "def build_and_train_model(optimizer):\n",
    "    model = build_model()\n",
    "    model.compile(\n",
    "        loss=\"sparse_categorical_crossentropy\",\n",
    "        optimizer=optimizer,\n",
    "        metrics=[\"accuracy\"],\n",
    "    )\n",
    "    return model.fit(X_train, y_train, epochs=10, validation_data=(X_valid, y_valid))"
   ]
  },
  {
   "cell_type": "code",
   "execution_count": 79,
   "metadata": {},
   "outputs": [],
   "source": [
    "optimizer = tf.keras.optimizers.SGD(learning_rate=0.001)"
   ]
  },
  {
   "cell_type": "code",
   "execution_count": 80,
   "metadata": {},
   "outputs": [
    {
     "name": "stdout",
     "output_type": "stream",
     "text": [
      "Epoch 1/10\n",
      "1719/1719 [==============================] - 3s 2ms/step - loss: 1.3112 - accuracy: 0.5887 - val_loss: 0.8518 - val_accuracy: 0.7126\n",
      "Epoch 2/10\n",
      "1719/1719 [==============================] - 3s 1ms/step - loss: 0.7654 - accuracy: 0.7382 - val_loss: 0.6796 - val_accuracy: 0.7660\n",
      "Epoch 3/10\n",
      "1719/1719 [==============================] - 2s 1ms/step - loss: 0.6525 - accuracy: 0.7794 - val_loss: 0.6028 - val_accuracy: 0.7960\n",
      "Epoch 4/10\n",
      "1719/1719 [==============================] - 3s 1ms/step - loss: 0.5930 - accuracy: 0.7993 - val_loss: 0.5617 - val_accuracy: 0.8104\n",
      "Epoch 5/10\n",
      "1719/1719 [==============================] - 3s 2ms/step - loss: 0.5556 - accuracy: 0.8124 - val_loss: 0.5361 - val_accuracy: 0.8134\n",
      "Epoch 6/10\n",
      "1719/1719 [==============================] - 2s 1ms/step - loss: 0.5288 - accuracy: 0.8202 - val_loss: 0.5208 - val_accuracy: 0.8156\n",
      "Epoch 7/10\n",
      "1719/1719 [==============================] - 2s 1ms/step - loss: 0.5097 - accuracy: 0.8249 - val_loss: 0.4970 - val_accuracy: 0.8268\n",
      "Epoch 8/10\n",
      "1719/1719 [==============================] - 3s 2ms/step - loss: 0.4944 - accuracy: 0.8304 - val_loss: 0.4914 - val_accuracy: 0.8218\n",
      "Epoch 9/10\n",
      "1719/1719 [==============================] - 3s 2ms/step - loss: 0.4818 - accuracy: 0.8331 - val_loss: 0.4745 - val_accuracy: 0.8310\n",
      "Epoch 10/10\n",
      "1719/1719 [==============================] - 2s 1ms/step - loss: 0.4707 - accuracy: 0.8369 - val_loss: 0.4639 - val_accuracy: 0.8344\n"
     ]
    }
   ],
   "source": [
    "history_sgd = build_and_train_model(\n",
    "    optimizer\n",
    ")  # momentum likes to converge faster than sgd becuase it keeps going in the same direction and it picks up speed on the way"
   ]
  },
  {
   "cell_type": "code",
   "execution_count": 81,
   "metadata": {},
   "outputs": [
    {
     "name": "stdout",
     "output_type": "stream",
     "text": [
      "Epoch 1/10\n",
      "1719/1719 [==============================] - 3s 2ms/step - loss: 0.6830 - accuracy: 0.7656 - val_loss: 0.5035 - val_accuracy: 0.8154\n",
      "Epoch 2/10\n",
      "1719/1719 [==============================] - 3s 2ms/step - loss: 0.4702 - accuracy: 0.8362 - val_loss: 0.4586 - val_accuracy: 0.8370\n",
      "Epoch 3/10\n",
      "1719/1719 [==============================] - 2s 1ms/step - loss: 0.4277 - accuracy: 0.8499 - val_loss: 0.4142 - val_accuracy: 0.8540\n",
      "Epoch 4/10\n",
      "1719/1719 [==============================] - 2s 1ms/step - loss: 0.4002 - accuracy: 0.8595 - val_loss: 0.3893 - val_accuracy: 0.8620\n",
      "Epoch 5/10\n",
      "1719/1719 [==============================] - 2s 1ms/step - loss: 0.3786 - accuracy: 0.8667 - val_loss: 0.3723 - val_accuracy: 0.8630\n",
      "Epoch 6/10\n",
      "1719/1719 [==============================] - 2s 1ms/step - loss: 0.3639 - accuracy: 0.8707 - val_loss: 0.3724 - val_accuracy: 0.8666\n",
      "Epoch 7/10\n",
      "1719/1719 [==============================] - 2s 1ms/step - loss: 0.3471 - accuracy: 0.8750 - val_loss: 0.3673 - val_accuracy: 0.8646\n",
      "Epoch 8/10\n",
      "1719/1719 [==============================] - 2s 1ms/step - loss: 0.3386 - accuracy: 0.8776 - val_loss: 0.3557 - val_accuracy: 0.8706\n",
      "Epoch 9/10\n",
      "1719/1719 [==============================] - 2s 1ms/step - loss: 0.3286 - accuracy: 0.8817 - val_loss: 0.3743 - val_accuracy: 0.8610\n",
      "Epoch 10/10\n",
      "1719/1719 [==============================] - 2s 1ms/step - loss: 0.3174 - accuracy: 0.8848 - val_loss: 0.3620 - val_accuracy: 0.8672\n"
     ]
    }
   ],
   "source": [
    "optimizer = tf.keras.optimizers.SGD(learning_rate=0.001, momentum=0.9)\n",
    "history_momentum = build_and_train_model(optimizer)  # extra code"
   ]
  },
  {
   "cell_type": "code",
   "execution_count": 82,
   "metadata": {},
   "outputs": [
    {
     "name": "stdout",
     "output_type": "stream",
     "text": [
      "Epoch 1/10\n",
      "1719/1719 [==============================] - 3s 2ms/step - loss: 0.6978 - accuracy: 0.7633 - val_loss: 0.4910 - val_accuracy: 0.8272\n",
      "Epoch 2/10\n",
      "1719/1719 [==============================] - 3s 2ms/step - loss: 0.4627 - accuracy: 0.8390 - val_loss: 0.4421 - val_accuracy: 0.8386\n",
      "Epoch 3/10\n",
      "1719/1719 [==============================] - 4s 2ms/step - loss: 0.4184 - accuracy: 0.8523 - val_loss: 0.3994 - val_accuracy: 0.8606\n",
      "Epoch 4/10\n",
      "1719/1719 [==============================] - 3s 2ms/step - loss: 0.3915 - accuracy: 0.8621 - val_loss: 0.3772 - val_accuracy: 0.8668\n",
      "Epoch 5/10\n",
      "1719/1719 [==============================] - 3s 2ms/step - loss: 0.3694 - accuracy: 0.8695 - val_loss: 0.3717 - val_accuracy: 0.8640\n",
      "Epoch 6/10\n",
      "1719/1719 [==============================] - 3s 2ms/step - loss: 0.3548 - accuracy: 0.8739 - val_loss: 0.3645 - val_accuracy: 0.8686\n",
      "Epoch 7/10\n",
      "1719/1719 [==============================] - 3s 2ms/step - loss: 0.3405 - accuracy: 0.8777 - val_loss: 0.3806 - val_accuracy: 0.8634\n",
      "Epoch 8/10\n",
      "1719/1719 [==============================] - 3s 2ms/step - loss: 0.3310 - accuracy: 0.8809 - val_loss: 0.3604 - val_accuracy: 0.8638\n",
      "Epoch 9/10\n",
      "1719/1719 [==============================] - 3s 2ms/step - loss: 0.3224 - accuracy: 0.8847 - val_loss: 0.3517 - val_accuracy: 0.8708\n",
      "Epoch 10/10\n",
      "1719/1719 [==============================] - 3s 2ms/step - loss: 0.3115 - accuracy: 0.8877 - val_loss: 0.3575 - val_accuracy: 0.8710\n"
     ]
    }
   ],
   "source": [
    "# nesterov accelerated gradient almost always faster than momentum it measures the gradient of the cost function not at the local position but slightly ahead in the direction of the momentum\n",
    "optimizer = tf.keras.optimizers.SGD(learning_rate=0.001, momentum=0.9, nesterov=True)\n",
    "history_nesterov = build_and_train_model(optimizer)"
   ]
  },
  {
   "cell_type": "code",
   "execution_count": 83,
   "metadata": {},
   "outputs": [
    {
     "name": "stdout",
     "output_type": "stream",
     "text": [
      "Epoch 1/10\n",
      "1719/1719 [==============================] - 3s 2ms/step - loss: 1.0673 - accuracy: 0.6690 - val_loss: 0.7109 - val_accuracy: 0.7682\n",
      "Epoch 2/10\n",
      "1719/1719 [==============================] - 3s 2ms/step - loss: 0.6619 - accuracy: 0.7818 - val_loss: 0.5955 - val_accuracy: 0.7990\n",
      "Epoch 3/10\n",
      "1719/1719 [==============================] - 3s 2ms/step - loss: 0.5829 - accuracy: 0.8060 - val_loss: 0.5444 - val_accuracy: 0.8168\n",
      "Epoch 4/10\n",
      "1719/1719 [==============================] - 3s 2ms/step - loss: 0.5421 - accuracy: 0.8185 - val_loss: 0.5140 - val_accuracy: 0.8236\n",
      "Epoch 5/10\n",
      "1719/1719 [==============================] - 4s 2ms/step - loss: 0.5153 - accuracy: 0.8273 - val_loss: 0.4930 - val_accuracy: 0.8302\n",
      "Epoch 6/10\n",
      "1719/1719 [==============================] - 3s 2ms/step - loss: 0.4961 - accuracy: 0.8325 - val_loss: 0.4780 - val_accuracy: 0.8350\n",
      "Epoch 7/10\n",
      "1719/1719 [==============================] - 3s 2ms/step - loss: 0.4815 - accuracy: 0.8370 - val_loss: 0.4666 - val_accuracy: 0.8392\n",
      "Epoch 8/10\n",
      "1719/1719 [==============================] - 3s 2ms/step - loss: 0.4701 - accuracy: 0.8395 - val_loss: 0.4560 - val_accuracy: 0.8428\n",
      "Epoch 9/10\n",
      "1719/1719 [==============================] - 3s 2ms/step - loss: 0.4603 - accuracy: 0.8431 - val_loss: 0.4489 - val_accuracy: 0.8424\n",
      "Epoch 10/10\n",
      "1719/1719 [==============================] - 3s 2ms/step - loss: 0.4518 - accuracy: 0.8460 - val_loss: 0.4406 - val_accuracy: 0.8464\n"
     ]
    }
   ],
   "source": [
    "# adagrad is an adaptive learning rate algorithm it starts with a large learning rate and then reduces it for each parameter individually based on the past gradients for that parameter\n",
    "optimizer = tf.keras.optimizers.Adagrad(learning_rate=0.001)\n",
    "history_adagrad = build_and_train_model(optimizer)"
   ]
  },
  {
   "cell_type": "code",
   "execution_count": 84,
   "metadata": {},
   "outputs": [
    {
     "name": "stdout",
     "output_type": "stream",
     "text": [
      "Epoch 1/10\n",
      "1719/1719 [==============================] - 4s 2ms/step - loss: 0.5164 - accuracy: 0.8131 - val_loss: 0.4461 - val_accuracy: 0.8246\n",
      "Epoch 2/10\n",
      "1719/1719 [==============================] - 3s 2ms/step - loss: 0.3946 - accuracy: 0.8582 - val_loss: 0.4350 - val_accuracy: 0.8452\n",
      "Epoch 3/10\n",
      "1719/1719 [==============================] - 3s 2ms/step - loss: 0.3686 - accuracy: 0.8679 - val_loss: 0.4071 - val_accuracy: 0.8586\n",
      "Epoch 4/10\n",
      "1719/1719 [==============================] - 3s 2ms/step - loss: 0.3603 - accuracy: 0.8753 - val_loss: 0.3944 - val_accuracy: 0.8714\n",
      "Epoch 5/10\n",
      "1719/1719 [==============================] - 3s 2ms/step - loss: 0.3532 - accuracy: 0.8788 - val_loss: 0.3488 - val_accuracy: 0.8744\n",
      "Epoch 6/10\n",
      "1719/1719 [==============================] - 3s 2ms/step - loss: 0.3433 - accuracy: 0.8799 - val_loss: 0.4327 - val_accuracy: 0.8552\n",
      "Epoch 7/10\n",
      "1719/1719 [==============================] - 3s 2ms/step - loss: 0.3467 - accuracy: 0.8807 - val_loss: 0.4291 - val_accuracy: 0.8690\n",
      "Epoch 8/10\n",
      "1719/1719 [==============================] - 3s 2ms/step - loss: 0.3408 - accuracy: 0.8828 - val_loss: 0.4415 - val_accuracy: 0.8722\n",
      "Epoch 9/10\n",
      "1719/1719 [==============================] - 3s 2ms/step - loss: 0.3429 - accuracy: 0.8847 - val_loss: 0.4292 - val_accuracy: 0.8826\n",
      "Epoch 10/10\n",
      "1719/1719 [==============================] - 3s 2ms/step - loss: 0.3451 - accuracy: 0.8848 - val_loss: 0.4321 - val_accuracy: 0.8758\n"
     ]
    }
   ],
   "source": [
    "# RMSProp is similar to adagrad but it accumulates only the gradients from the most recent iterations (as opposed to all the gradients since the beginning of training)\n",
    "# tume the decay rate and the learning rate\n",
    "optimizer = tf.keras.optimizers.RMSprop(learning_rate=0.001, rho=0.9)\n",
    "history_rmsprop = build_and_train_model(optimizer)"
   ]
  },
  {
   "cell_type": "code",
   "execution_count": 85,
   "metadata": {},
   "outputs": [
    {
     "name": "stdout",
     "output_type": "stream",
     "text": [
      "Epoch 1/10\n",
      "1719/1719 [==============================] - 5s 2ms/step - loss: 0.5000 - accuracy: 0.8204 - val_loss: 0.4240 - val_accuracy: 0.8426\n",
      "Epoch 2/10\n",
      "1719/1719 [==============================] - 3s 2ms/step - loss: 0.3755 - accuracy: 0.8631 - val_loss: 0.3944 - val_accuracy: 0.8440\n",
      "Epoch 3/10\n",
      "1719/1719 [==============================] - 3s 2ms/step - loss: 0.3399 - accuracy: 0.8750 - val_loss: 0.3422 - val_accuracy: 0.8762\n",
      "Epoch 4/10\n",
      "1719/1719 [==============================] - 3s 2ms/step - loss: 0.3181 - accuracy: 0.8828 - val_loss: 0.3519 - val_accuracy: 0.8734\n",
      "Epoch 5/10\n",
      "1719/1719 [==============================] - 3s 2ms/step - loss: 0.2992 - accuracy: 0.8884 - val_loss: 0.3289 - val_accuracy: 0.8762\n",
      "Epoch 6/10\n",
      "1719/1719 [==============================] - 4s 2ms/step - loss: 0.2864 - accuracy: 0.8933 - val_loss: 0.3539 - val_accuracy: 0.8752\n",
      "Epoch 7/10\n",
      "1719/1719 [==============================] - 4s 2ms/step - loss: 0.2733 - accuracy: 0.8974 - val_loss: 0.3588 - val_accuracy: 0.8754\n",
      "Epoch 8/10\n",
      "1719/1719 [==============================] - 4s 2ms/step - loss: 0.2649 - accuracy: 0.8997 - val_loss: 0.3151 - val_accuracy: 0.8864\n",
      "Epoch 9/10\n",
      "1719/1719 [==============================] - 3s 2ms/step - loss: 0.2531 - accuracy: 0.9052 - val_loss: 0.3645 - val_accuracy: 0.8704\n",
      "Epoch 10/10\n",
      "1719/1719 [==============================] - 3s 2ms/step - loss: 0.2441 - accuracy: 0.9067 - val_loss: 0.3441 - val_accuracy: 0.8776\n"
     ]
    }
   ],
   "source": [
    "# Adam is a combination of momentum optimization and RMSProp it keeps track of an exponentially decaying average of past gradients and of past squared gradients\n",
    "optimizer = tf.keras.optimizers.Adam(learning_rate=0.001, beta_1=0.9, beta_2=0.999)\n",
    "history_adam = build_and_train_model(optimizer)"
   ]
  },
  {
   "cell_type": "code",
   "execution_count": 86,
   "metadata": {},
   "outputs": [
    {
     "name": "stdout",
     "output_type": "stream",
     "text": [
      "Epoch 1/10\n",
      "1719/1719 [==============================] - 4s 2ms/step - loss: 0.5377 - accuracy: 0.8115 - val_loss: 0.4420 - val_accuracy: 0.8342\n",
      "Epoch 2/10\n",
      "1719/1719 [==============================] - 3s 2ms/step - loss: 0.3974 - accuracy: 0.8590 - val_loss: 0.3951 - val_accuracy: 0.8498\n",
      "Epoch 3/10\n",
      "1719/1719 [==============================] - 3s 2ms/step - loss: 0.3597 - accuracy: 0.8697 - val_loss: 0.3787 - val_accuracy: 0.8630\n",
      "Epoch 4/10\n",
      "1719/1719 [==============================] - 3s 2ms/step - loss: 0.3334 - accuracy: 0.8793 - val_loss: 0.3462 - val_accuracy: 0.8734\n",
      "Epoch 5/10\n",
      "1719/1719 [==============================] - 3s 2ms/step - loss: 0.3132 - accuracy: 0.8858 - val_loss: 0.3266 - val_accuracy: 0.8812\n",
      "Epoch 6/10\n",
      "1719/1719 [==============================] - 3s 2ms/step - loss: 0.2984 - accuracy: 0.8908 - val_loss: 0.3277 - val_accuracy: 0.8794\n",
      "Epoch 7/10\n",
      "1719/1719 [==============================] - 3s 2ms/step - loss: 0.2848 - accuracy: 0.8948 - val_loss: 0.3346 - val_accuracy: 0.8812\n",
      "Epoch 8/10\n",
      "1719/1719 [==============================] - 3s 2ms/step - loss: 0.2750 - accuracy: 0.8977 - val_loss: 0.3227 - val_accuracy: 0.8870\n",
      "Epoch 9/10\n",
      "1719/1719 [==============================] - 3s 2ms/step - loss: 0.2651 - accuracy: 0.9023 - val_loss: 0.3393 - val_accuracy: 0.8736\n",
      "Epoch 10/10\n",
      "1719/1719 [==============================] - 3s 2ms/step - loss: 0.2543 - accuracy: 0.9051 - val_loss: 0.3368 - val_accuracy: 0.8790\n"
     ]
    }
   ],
   "source": [
    "# AdaMax is a variant of Adam based on the infinity norm it is less affected by vanishing and exploding gradients than other variants of Adam but it is slower to converge\n",
    "optimizer = tf.keras.optimizers.Adamax(learning_rate=0.001, beta_1=0.9, beta_2=0.999)\n",
    "history_adamax = build_and_train_model(optimizer)"
   ]
  },
  {
   "cell_type": "code",
   "execution_count": 87,
   "metadata": {},
   "outputs": [
    {
     "name": "stdout",
     "output_type": "stream",
     "text": [
      "Epoch 1/10\n",
      "1719/1719 [==============================] - 4s 2ms/step - loss: 0.4848 - accuracy: 0.8266 - val_loss: 0.4420 - val_accuracy: 0.8250\n",
      "Epoch 2/10\n",
      "1719/1719 [==============================] - 3s 2ms/step - loss: 0.3695 - accuracy: 0.8652 - val_loss: 0.3872 - val_accuracy: 0.8554\n",
      "Epoch 3/10\n",
      "1719/1719 [==============================] - 3s 2ms/step - loss: 0.3350 - accuracy: 0.8767 - val_loss: 0.3671 - val_accuracy: 0.8738\n",
      "Epoch 4/10\n",
      "1719/1719 [==============================] - 3s 2ms/step - loss: 0.3118 - accuracy: 0.8859 - val_loss: 0.3415 - val_accuracy: 0.8770\n",
      "Epoch 5/10\n",
      "1719/1719 [==============================] - 3s 2ms/step - loss: 0.2944 - accuracy: 0.8901 - val_loss: 0.3291 - val_accuracy: 0.8734\n",
      "Epoch 6/10\n",
      "1719/1719 [==============================] - 3s 2ms/step - loss: 0.2788 - accuracy: 0.8963 - val_loss: 0.3622 - val_accuracy: 0.8740\n",
      "Epoch 7/10\n",
      "1719/1719 [==============================] - 4s 2ms/step - loss: 0.2697 - accuracy: 0.8985 - val_loss: 0.3603 - val_accuracy: 0.8756\n",
      "Epoch 8/10\n",
      "1719/1719 [==============================] - 4s 2ms/step - loss: 0.2581 - accuracy: 0.9025 - val_loss: 0.3355 - val_accuracy: 0.8840\n",
      "Epoch 9/10\n",
      "1719/1719 [==============================] - 4s 2ms/step - loss: 0.2463 - accuracy: 0.9070 - val_loss: 0.3671 - val_accuracy: 0.8752\n",
      "Epoch 10/10\n",
      "1719/1719 [==============================] - 4s 2ms/step - loss: 0.2383 - accuracy: 0.9102 - val_loss: 0.3924 - val_accuracy: 0.8788\n"
     ]
    }
   ],
   "source": [
    "# nadam is Adam plus Nesterov it is faster to converge than Adam but it is not always better\n",
    "optimizer = tf.keras.optimizers.Nadam(learning_rate=0.001, beta_1=0.9, beta_2=0.999)\n",
    "history_nadam = build_and_train_model(optimizer)"
   ]
  },
  {
   "cell_type": "code",
   "execution_count": 88,
   "metadata": {},
   "outputs": [
    {
     "name": "stdout",
     "output_type": "stream",
     "text": [
      "Epoch 1/10\n",
      "1719/1719 [==============================] - 4s 2ms/step - loss: 0.5067 - accuracy: 0.8190 - val_loss: 0.4533 - val_accuracy: 0.8238\n",
      "Epoch 2/10\n",
      "1719/1719 [==============================] - 3s 2ms/step - loss: 0.3775 - accuracy: 0.8628 - val_loss: 0.3912 - val_accuracy: 0.8540\n",
      "Epoch 3/10\n",
      "1719/1719 [==============================] - 3s 2ms/step - loss: 0.3416 - accuracy: 0.8749 - val_loss: 0.3628 - val_accuracy: 0.8668\n",
      "Epoch 4/10\n",
      "1719/1719 [==============================] - 3s 2ms/step - loss: 0.3196 - accuracy: 0.8828 - val_loss: 0.3432 - val_accuracy: 0.8728\n",
      "Epoch 5/10\n",
      "1719/1719 [==============================] - 3s 2ms/step - loss: 0.2998 - accuracy: 0.8880 - val_loss: 0.3269 - val_accuracy: 0.8760\n",
      "Epoch 6/10\n",
      "1719/1719 [==============================] - 3s 2ms/step - loss: 0.2852 - accuracy: 0.8941 - val_loss: 0.3791 - val_accuracy: 0.8730\n",
      "Epoch 7/10\n",
      "1719/1719 [==============================] - 3s 2ms/step - loss: 0.2730 - accuracy: 0.8968 - val_loss: 0.3444 - val_accuracy: 0.8822\n",
      "Epoch 8/10\n",
      "1719/1719 [==============================] - 3s 2ms/step - loss: 0.2627 - accuracy: 0.9006 - val_loss: 0.3378 - val_accuracy: 0.8844\n",
      "Epoch 9/10\n",
      "1719/1719 [==============================] - 3s 2ms/step - loss: 0.2539 - accuracy: 0.9043 - val_loss: 0.3642 - val_accuracy: 0.8720\n",
      "Epoch 10/10\n",
      "1719/1719 [==============================] - 3s 2ms/step - loss: 0.2451 - accuracy: 0.9073 - val_loss: 0.3862 - val_accuracy: 0.8714\n"
     ]
    }
   ],
   "source": [
    "# adamw is Adam plus weight decay regularization it can converge faster than Adam but it is not always better\n",
    "optimizer = tf.keras.optimizers.AdamW(learning_rate=0.001, beta_1=0.9, beta_2=0.999)\n",
    "history_adamw = build_and_train_model(optimizer)"
   ]
  },
  {
   "cell_type": "code",
   "execution_count": 89,
   "metadata": {},
   "outputs": [
    {
     "data": {
      "image/png": "[encoded data removed]",
      "text/plain": [
       "<Figure size 1200x800 with 1 Axes>"
      ]
     },
     "metadata": {},
     "output_type": "display_data"
    },
    {
     "data": {
      "image/png": "[encoded data removed]",
      "text/plain": [
       "<Figure size 1200x800 with 1 Axes>"
      ]
     },
     "metadata": {},
     "output_type": "display_data"
    }
   ],
   "source": [
    "for loss in (\"loss\", \"val_loss\"):\n",
    "    plt.figure(figsize=(12, 8))\n",
    "    opt_names = \"SGD Momentum Nesterov AdaGrad RMSProp Adam Adamax Nadam AdamW\"\n",
    "    for history, opt_name in zip(\n",
    "        (\n",
    "            history_sgd,\n",
    "            history_momentum,\n",
    "            history_nesterov,\n",
    "            history_adagrad,\n",
    "            history_rmsprop,\n",
    "            history_adam,\n",
    "            history_adamax,\n",
    "            history_nadam,\n",
    "            history_adamw,\n",
    "        ),\n",
    "        opt_names.split(),\n",
    "    ):\n",
    "        plt.plot(history.history[loss], label=f\"{opt_name}\", linewidth=3)\n",
    "\n",
    "    plt.grid()\n",
    "    plt.xlabel(\"Epochs\")\n",
    "    plt.ylabel({\"loss\": \"Training loss\", \"val_loss\": \"Validation loss\"}[loss])\n",
    "    plt.legend(loc=\"upper left\")\n",
    "    plt.axis([0, 9, 0.1, 0.7])\n",
    "    plt.show()"
   ]
  },
  {
   "cell_type": "code",
   "execution_count": 91,
   "metadata": {},
   "outputs": [
    {
     "name": "stdout",
     "output_type": "stream",
     "text": [
      "Epoch 1/10\n",
      "1719/1719 [==============================] - 3s 2ms/step - loss: 0.6670 - accuracy: 0.7734 - val_loss: 0.4766 - val_accuracy: 0.8344\n",
      "Epoch 2/10\n",
      "1719/1719 [==============================] - 3s 2ms/step - loss: 0.4642 - accuracy: 0.8358 - val_loss: 0.4449 - val_accuracy: 0.8404\n",
      "Epoch 3/10\n",
      "1719/1719 [==============================] - 3s 1ms/step - loss: 0.4190 - accuracy: 0.8506 - val_loss: 0.4127 - val_accuracy: 0.8542\n",
      "Epoch 4/10\n",
      "1719/1719 [==============================] - 2s 1ms/step - loss: 0.3949 - accuracy: 0.8603 - val_loss: 0.3832 - val_accuracy: 0.8658\n",
      "Epoch 5/10\n",
      "1719/1719 [==============================] - 2s 1ms/step - loss: 0.3750 - accuracy: 0.8653 - val_loss: 0.3723 - val_accuracy: 0.8668\n",
      "Epoch 6/10\n",
      "1719/1719 [==============================] - 2s 1ms/step - loss: 0.3586 - accuracy: 0.8714 - val_loss: 0.3742 - val_accuracy: 0.8694\n",
      "Epoch 7/10\n",
      "1719/1719 [==============================] - 3s 1ms/step - loss: 0.3472 - accuracy: 0.8737 - val_loss: 0.3654 - val_accuracy: 0.8726\n",
      "Epoch 8/10\n",
      "1719/1719 [==============================] - 3s 2ms/step - loss: 0.3360 - accuracy: 0.8776 - val_loss: 0.3666 - val_accuracy: 0.8666\n",
      "Epoch 9/10\n",
      "1719/1719 [==============================] - 3s 2ms/step - loss: 0.3258 - accuracy: 0.8817 - val_loss: 0.3453 - val_accuracy: 0.8778\n",
      "Epoch 10/10\n",
      "1719/1719 [==============================] - 2s 1ms/step - loss: 0.3161 - accuracy: 0.8839 - val_loss: 0.3499 - val_accuracy: 0.8738\n"
     ]
    }
   ],
   "source": [
    "# power learning rate scheduling\n",
    "# lr = lr0 / (1 + steps / s)**c\n",
    "optimizer = tf.keras.optimizers.SGD(learning_rate=0.01, weight_decay=1e-4)\n",
    "history_power_scheduling = build_and_train_model(optimizer)"
   ]
  },
  {
   "cell_type": "code",
   "execution_count": 92,
   "metadata": {},
   "outputs": [],
   "source": [
    "# exponential learning rate scheduling\n",
    "# lr = lr0 * 0.1**(epoch / s)\n",
    "def exponential_decay_fn(epoch):\n",
    "    return 0.01 * 0.1 ** (epoch / 20)\n",
    "\n",
    "\n",
    "def exponential_decay(lr0, s):\n",
    "    def exponential_decay_fn(epoch):\n",
    "        return lr0 * 0.1 ** (epoch / s)\n",
    "\n",
    "    return exponential_decay_fn\n",
    "\n",
    "\n",
    "exponential_decay_fn = exponential_decay(lr0=0.01, s=20)"
   ]
  },
  {
   "cell_type": "code",
   "execution_count": 93,
   "metadata": {},
   "outputs": [],
   "source": [
    "tf.random.set_seed(42)\n",
    "model = build_model()\n",
    "optimizer = tf.keras.optimizers.SGD(learning_rate=0.001)\n",
    "model.compile(\n",
    "    loss=\"sparse_categorical_crossentropy\", optimizer=optimizer, metrics=[\"accuracy\"]\n",
    ")"
   ]
  },
  {
   "cell_type": "code",
   "execution_count": 94,
   "metadata": {},
   "outputs": [
    {
     "name": "stdout",
     "output_type": "stream",
     "text": [
      "Epoch 1/25\n",
      "1719/1719 [==============================] - 3s 2ms/step - loss: 0.6763 - accuracy: 0.7675 - val_loss: 0.4974 - val_accuracy: 0.8236 - lr: 0.0100\n",
      "Epoch 2/25\n",
      "1719/1719 [==============================] - 2s 1ms/step - loss: 0.4701 - accuracy: 0.8347 - val_loss: 0.4582 - val_accuracy: 0.8342 - lr: 0.0089\n",
      "Epoch 3/25\n",
      "1719/1719 [==============================] - 2s 1ms/step - loss: 0.4244 - accuracy: 0.8508 - val_loss: 0.4099 - val_accuracy: 0.8560 - lr: 0.0079\n",
      "Epoch 4/25\n",
      "1719/1719 [==============================] - 2s 1ms/step - loss: 0.4000 - accuracy: 0.8597 - val_loss: 0.3910 - val_accuracy: 0.8662 - lr: 0.0071\n",
      "Epoch 5/25\n",
      "1719/1719 [==============================] - 2s 1ms/step - loss: 0.3808 - accuracy: 0.8655 - val_loss: 0.3820 - val_accuracy: 0.8638 - lr: 0.0063\n",
      "Epoch 6/25\n",
      "1719/1719 [==============================] - 2s 1ms/step - loss: 0.3654 - accuracy: 0.8700 - val_loss: 0.3822 - val_accuracy: 0.8630 - lr: 0.0056\n",
      "Epoch 7/25\n",
      "1719/1719 [==============================] - 2s 1ms/step - loss: 0.3550 - accuracy: 0.8728 - val_loss: 0.3654 - val_accuracy: 0.8692 - lr: 0.0050\n",
      "Epoch 8/25\n",
      "1719/1719 [==============================] - 2s 1ms/step - loss: 0.3455 - accuracy: 0.8764 - val_loss: 0.3627 - val_accuracy: 0.8688 - lr: 0.0045\n",
      "Epoch 9/25\n",
      "1719/1719 [==============================] - 3s 2ms/step - loss: 0.3374 - accuracy: 0.8790 - val_loss: 0.3508 - val_accuracy: 0.8716 - lr: 0.0040\n",
      "Epoch 10/25\n",
      "1719/1719 [==============================] - 2s 1ms/step - loss: 0.3302 - accuracy: 0.8813 - val_loss: 0.3499 - val_accuracy: 0.8736 - lr: 0.0035\n",
      "Epoch 11/25\n",
      "1719/1719 [==============================] - 2s 1ms/step - loss: 0.3246 - accuracy: 0.8826 - val_loss: 0.3504 - val_accuracy: 0.8718 - lr: 0.0032\n",
      "Epoch 12/25\n",
      "1719/1719 [==============================] - 2s 1ms/step - loss: 0.3196 - accuracy: 0.8849 - val_loss: 0.3496 - val_accuracy: 0.8736 - lr: 0.0028\n",
      "Epoch 13/25\n",
      "1719/1719 [==============================] - 3s 2ms/step - loss: 0.3157 - accuracy: 0.8866 - val_loss: 0.3377 - val_accuracy: 0.8756 - lr: 0.0025\n",
      "Epoch 14/25\n",
      "1719/1719 [==============================] - 3s 2ms/step - loss: 0.3113 - accuracy: 0.8881 - val_loss: 0.3433 - val_accuracy: 0.8770 - lr: 0.0022\n",
      "Epoch 15/25\n",
      "1719/1719 [==============================] - 3s 1ms/step - loss: 0.3081 - accuracy: 0.8890 - val_loss: 0.3436 - val_accuracy: 0.8758 - lr: 0.0020\n",
      "Epoch 16/25\n",
      "1719/1719 [==============================] - 3s 2ms/step - loss: 0.3048 - accuracy: 0.8916 - val_loss: 0.3365 - val_accuracy: 0.8752 - lr: 0.0018\n",
      "Epoch 17/25\n",
      "1719/1719 [==============================] - 3s 1ms/step - loss: 0.3023 - accuracy: 0.8911 - val_loss: 0.3368 - val_accuracy: 0.8762 - lr: 0.0016\n",
      "Epoch 18/25\n",
      "1719/1719 [==============================] - 3s 2ms/step - loss: 0.3001 - accuracy: 0.8923 - val_loss: 0.3382 - val_accuracy: 0.8768 - lr: 0.0014\n",
      "Epoch 19/25\n",
      "1719/1719 [==============================] - 3s 2ms/step - loss: 0.2981 - accuracy: 0.8922 - val_loss: 0.3335 - val_accuracy: 0.8826 - lr: 0.0013\n",
      "Epoch 20/25\n",
      "1719/1719 [==============================] - 3s 1ms/step - loss: 0.2960 - accuracy: 0.8935 - val_loss: 0.3335 - val_accuracy: 0.8780 - lr: 0.0011\n",
      "Epoch 21/25\n",
      "1719/1719 [==============================] - 2s 1ms/step - loss: 0.2945 - accuracy: 0.8944 - val_loss: 0.3330 - val_accuracy: 0.8756 - lr: 0.0010\n",
      "Epoch 22/25\n",
      "1719/1719 [==============================] - 3s 2ms/step - loss: 0.2930 - accuracy: 0.8949 - val_loss: 0.3342 - val_accuracy: 0.8772 - lr: 8.9125e-04\n",
      "Epoch 23/25\n",
      "1719/1719 [==============================] - 3s 2ms/step - loss: 0.2917 - accuracy: 0.8956 - val_loss: 0.3326 - val_accuracy: 0.8778 - lr: 7.9433e-04\n",
      "Epoch 24/25\n",
      "1719/1719 [==============================] - 3s 1ms/step - loss: 0.2905 - accuracy: 0.8963 - val_loss: 0.3322 - val_accuracy: 0.8768 - lr: 7.0795e-04\n",
      "Epoch 25/25\n",
      "1719/1719 [==============================] - 3s 2ms/step - loss: 0.2895 - accuracy: 0.8970 - val_loss: 0.3331 - val_accuracy: 0.8778 - lr: 6.3096e-04\n"
     ]
    }
   ],
   "source": [
    "lr_scheduler = tf.keras.callbacks.LearningRateScheduler(exponential_decay_fn)\n",
    "history = model.fit(\n",
    "    X_train,\n",
    "    y_train,\n",
    "    epochs=25,\n",
    "    validation_data=(X_valid, y_valid),\n",
    "    callbacks=[lr_scheduler],\n",
    ")"
   ]
  },
  {
   "cell_type": "code",
   "execution_count": 97,
   "metadata": {},
   "outputs": [],
   "source": [
    "# piecewise constant scheduling\n",
    "def piecewise_constant(boundaries, values):\n",
    "    boundaries = np.array([0] + boundaries)\n",
    "    values = np.array(values)\n",
    "\n",
    "    def piecewise_constant_fn(epoch):\n",
    "        return values[(boundaries > epoch).argmax() - 1]\n",
    "\n",
    "    return piecewise_constant_fn\n",
    "\n",
    "\n",
    "piecewise_constant_fn = piecewise_constant([5, 15], [0.01, 0.005, 0.001])"
   ]
  },
  {
   "cell_type": "code",
   "execution_count": 98,
   "metadata": {},
   "outputs": [
    {
     "name": "stdout",
     "output_type": "stream",
     "text": [
      "Epoch 1/25\n",
      "1719/1719 [==============================] - 4s 2ms/step - loss: 0.5447 - accuracy: 0.8075 - val_loss: 0.5190 - val_accuracy: 0.8184 - lr: 0.0100\n",
      "Epoch 2/25\n",
      "1719/1719 [==============================] - 3s 2ms/step - loss: 0.4542 - accuracy: 0.8407 - val_loss: 0.4559 - val_accuracy: 0.8348 - lr: 0.0100\n",
      "Epoch 3/25\n",
      "1719/1719 [==============================] - 3s 2ms/step - loss: 0.4299 - accuracy: 0.8494 - val_loss: 0.5124 - val_accuracy: 0.8358 - lr: 0.0100\n",
      "Epoch 4/25\n",
      "1719/1719 [==============================] - 3s 2ms/step - loss: 0.4254 - accuracy: 0.8516 - val_loss: 0.4087 - val_accuracy: 0.8570 - lr: 0.0100\n",
      "Epoch 5/25\n",
      "1719/1719 [==============================] - 3s 2ms/step - loss: 0.4317 - accuracy: 0.8495 - val_loss: 0.4112 - val_accuracy: 0.8560 - lr: 0.0100\n",
      "Epoch 6/25\n",
      "1719/1719 [==============================] - 3s 2ms/step - loss: 0.3714 - accuracy: 0.8676 - val_loss: 0.4098 - val_accuracy: 0.8604 - lr: 0.0050\n",
      "Epoch 7/25\n",
      "1719/1719 [==============================] - 3s 2ms/step - loss: 0.3587 - accuracy: 0.8703 - val_loss: 0.3932 - val_accuracy: 0.8592 - lr: 0.0050\n",
      "Epoch 8/25\n",
      "1719/1719 [==============================] - 4s 2ms/step - loss: 0.3511 - accuracy: 0.8720 - val_loss: 0.3938 - val_accuracy: 0.8644 - lr: 0.0050\n",
      "Epoch 9/25\n",
      "1719/1719 [==============================] - 4s 2ms/step - loss: 0.3467 - accuracy: 0.8755 - val_loss: 0.3800 - val_accuracy: 0.8632 - lr: 0.0050\n",
      "Epoch 10/25\n",
      "1719/1719 [==============================] - 3s 2ms/step - loss: 0.3394 - accuracy: 0.8759 - val_loss: 0.4096 - val_accuracy: 0.8586 - lr: 0.0050\n",
      "Epoch 11/25\n",
      "1719/1719 [==============================] - 3s 2ms/step - loss: 0.3381 - accuracy: 0.8773 - val_loss: 0.3973 - val_accuracy: 0.8666 - lr: 0.0050\n",
      "Epoch 12/25\n",
      "1719/1719 [==============================] - 4s 2ms/step - loss: 0.3328 - accuracy: 0.8801 - val_loss: 0.3963 - val_accuracy: 0.8668 - lr: 0.0050\n",
      "Epoch 13/25\n",
      "1719/1719 [==============================] - 4s 2ms/step - loss: 0.3299 - accuracy: 0.8810 - val_loss: 0.3806 - val_accuracy: 0.8702 - lr: 0.0050\n",
      "Epoch 14/25\n",
      "1719/1719 [==============================] - 4s 2ms/step - loss: 0.3280 - accuracy: 0.8814 - val_loss: 0.3903 - val_accuracy: 0.8708 - lr: 0.0050\n",
      "Epoch 15/25\n",
      "1719/1719 [==============================] - 3s 2ms/step - loss: 0.3297 - accuracy: 0.8818 - val_loss: 0.3854 - val_accuracy: 0.8666 - lr: 0.0050\n",
      "Epoch 16/25\n",
      "1719/1719 [==============================] - 3s 2ms/step - loss: 0.2916 - accuracy: 0.8937 - val_loss: 0.3686 - val_accuracy: 0.8722 - lr: 0.0010\n",
      "Epoch 17/25\n",
      "1719/1719 [==============================] - 4s 2ms/step - loss: 0.2826 - accuracy: 0.8960 - val_loss: 0.3771 - val_accuracy: 0.8716 - lr: 0.0010\n",
      "Epoch 18/25\n",
      "1719/1719 [==============================] - 4s 2ms/step - loss: 0.2776 - accuracy: 0.8974 - val_loss: 0.3675 - val_accuracy: 0.8774 - lr: 0.0010\n",
      "Epoch 19/25\n",
      "1719/1719 [==============================] - 4s 3ms/step - loss: 0.2750 - accuracy: 0.8981 - val_loss: 0.3739 - val_accuracy: 0.8768 - lr: 0.0010\n",
      "Epoch 20/25\n",
      "1719/1719 [==============================] - 4s 2ms/step - loss: 0.2723 - accuracy: 0.8993 - val_loss: 0.3776 - val_accuracy: 0.8758 - lr: 0.0010\n",
      "Epoch 21/25\n",
      "1719/1719 [==============================] - 4s 2ms/step - loss: 0.2706 - accuracy: 0.9002 - val_loss: 0.3823 - val_accuracy: 0.8764 - lr: 0.0010\n",
      "Epoch 22/25\n",
      "1719/1719 [==============================] - 4s 2ms/step - loss: 0.2695 - accuracy: 0.8996 - val_loss: 0.3816 - val_accuracy: 0.8776 - lr: 0.0010\n",
      "Epoch 23/25\n",
      "1719/1719 [==============================] - 3s 2ms/step - loss: 0.2665 - accuracy: 0.9006 - val_loss: 0.3834 - val_accuracy: 0.8798 - lr: 0.0010\n",
      "Epoch 24/25\n",
      "1719/1719 [==============================] - 3s 2ms/step - loss: 0.2658 - accuracy: 0.9004 - val_loss: 0.3855 - val_accuracy: 0.8784 - lr: 0.0010\n",
      "Epoch 25/25\n",
      "1719/1719 [==============================] - 3s 2ms/step - loss: 0.2634 - accuracy: 0.9015 - val_loss: 0.3960 - val_accuracy: 0.8794 - lr: 0.0010\n"
     ]
    }
   ],
   "source": [
    "n_epochs = 25\n",
    "lr0 = 0.01\n",
    "\n",
    "lr_scheduler = tf.keras.callbacks.LearningRateScheduler(piecewise_constant_fn)\n",
    "\n",
    "model = build_model()\n",
    "optimizer = tf.keras.optimizers.Nadam(learning_rate=lr0)\n",
    "model.compile(\n",
    "    loss=\"sparse_categorical_crossentropy\", optimizer=optimizer, metrics=[\"accuracy\"]\n",
    ")\n",
    "history = model.fit(\n",
    "    X_train,\n",
    "    y_train,\n",
    "    epochs=n_epochs,\n",
    "    validation_data=(X_valid, y_valid),\n",
    "    callbacks=[lr_scheduler],\n",
    ")"
   ]
  },
  {
   "cell_type": "code",
   "execution_count": 99,
   "metadata": {},
   "outputs": [],
   "source": [
    "model = build_model()\n",
    "optimizer = tf.keras.optimizers.SGD(learning_rate=lr0)\n",
    "model.compile(\n",
    "    loss=\"sparse_categorical_crossentropy\", optimizer=optimizer, metrics=[\"accuracy\"]\n",
    ")"
   ]
  },
  {
   "cell_type": "code",
   "execution_count": 100,
   "metadata": {},
   "outputs": [
    {
     "name": "stdout",
     "output_type": "stream",
     "text": [
      "Epoch 1/25\n",
      "1719/1719 [==============================] - 3s 1ms/step - loss: 0.7092 - accuracy: 0.7556 - val_loss: 0.4968 - val_accuracy: 0.8230 - lr: 0.0100\n",
      "Epoch 2/25\n",
      "1719/1719 [==============================] - 2s 1ms/step - loss: 0.4778 - accuracy: 0.8317 - val_loss: 0.4676 - val_accuracy: 0.8302 - lr: 0.0100\n",
      "Epoch 3/25\n",
      "1719/1719 [==============================] - 2s 1ms/step - loss: 0.4281 - accuracy: 0.8475 - val_loss: 0.4295 - val_accuracy: 0.8510 - lr: 0.0100\n",
      "Epoch 4/25\n",
      "1719/1719 [==============================] - 3s 2ms/step - loss: 0.4017 - accuracy: 0.8573 - val_loss: 0.3871 - val_accuracy: 0.8602 - lr: 0.0100\n",
      "Epoch 5/25\n",
      "1719/1719 [==============================] - 3s 2ms/step - loss: 0.3804 - accuracy: 0.8639 - val_loss: 0.3789 - val_accuracy: 0.8616 - lr: 0.0100\n",
      "Epoch 6/25\n",
      "1719/1719 [==============================] - 4s 2ms/step - loss: 0.3623 - accuracy: 0.8708 - val_loss: 0.3900 - val_accuracy: 0.8648 - lr: 0.0100\n",
      "Epoch 7/25\n",
      "1719/1719 [==============================] - 3s 2ms/step - loss: 0.3506 - accuracy: 0.8740 - val_loss: 0.3648 - val_accuracy: 0.8704 - lr: 0.0100\n",
      "Epoch 8/25\n",
      "1719/1719 [==============================] - 4s 2ms/step - loss: 0.3382 - accuracy: 0.8775 - val_loss: 0.3714 - val_accuracy: 0.8628 - lr: 0.0100\n",
      "Epoch 9/25\n",
      "1719/1719 [==============================] - 4s 2ms/step - loss: 0.3278 - accuracy: 0.8830 - val_loss: 0.3474 - val_accuracy: 0.8724 - lr: 0.0100\n",
      "Epoch 10/25\n",
      "1719/1719 [==============================] - 4s 2ms/step - loss: 0.3188 - accuracy: 0.8852 - val_loss: 0.3490 - val_accuracy: 0.8732 - lr: 0.0100\n",
      "Epoch 11/25\n",
      "1719/1719 [==============================] - 3s 2ms/step - loss: 0.3109 - accuracy: 0.8876 - val_loss: 0.3552 - val_accuracy: 0.8670 - lr: 0.0100\n",
      "Epoch 12/25\n",
      "1719/1719 [==============================] - 3s 2ms/step - loss: 0.3031 - accuracy: 0.8898 - val_loss: 0.3457 - val_accuracy: 0.8746 - lr: 0.0100\n",
      "Epoch 13/25\n",
      "1719/1719 [==============================] - 3s 2ms/step - loss: 0.2962 - accuracy: 0.8941 - val_loss: 0.3292 - val_accuracy: 0.8772 - lr: 0.0100\n",
      "Epoch 14/25\n",
      "1719/1719 [==============================] - 4s 2ms/step - loss: 0.2902 - accuracy: 0.8942 - val_loss: 0.3514 - val_accuracy: 0.8736 - lr: 0.0100\n",
      "Epoch 15/25\n",
      "1719/1719 [==============================] - 3s 2ms/step - loss: 0.2848 - accuracy: 0.8979 - val_loss: 0.3443 - val_accuracy: 0.8752 - lr: 0.0100\n",
      "Epoch 16/25\n",
      "1719/1719 [==============================] - 3s 2ms/step - loss: 0.2776 - accuracy: 0.9000 - val_loss: 0.3377 - val_accuracy: 0.8736 - lr: 0.0100\n",
      "Epoch 17/25\n",
      "1719/1719 [==============================] - 3s 2ms/step - loss: 0.2734 - accuracy: 0.9000 - val_loss: 0.3544 - val_accuracy: 0.8700 - lr: 0.0100\n",
      "Epoch 18/25\n",
      "1719/1719 [==============================] - 3s 2ms/step - loss: 0.2678 - accuracy: 0.9027 - val_loss: 0.3340 - val_accuracy: 0.8768 - lr: 0.0100\n",
      "Epoch 19/25\n",
      "1719/1719 [==============================] - 3s 2ms/step - loss: 0.2494 - accuracy: 0.9098 - val_loss: 0.3236 - val_accuracy: 0.8784 - lr: 0.0050\n",
      "Epoch 20/25\n",
      "1719/1719 [==============================] - 3s 2ms/step - loss: 0.2458 - accuracy: 0.9108 - val_loss: 0.3233 - val_accuracy: 0.8840 - lr: 0.0050\n",
      "Epoch 21/25\n",
      "1719/1719 [==============================] - 3s 2ms/step - loss: 0.2429 - accuracy: 0.9121 - val_loss: 0.3220 - val_accuracy: 0.8818 - lr: 0.0050\n",
      "Epoch 22/25\n",
      "1719/1719 [==============================] - 3s 2ms/step - loss: 0.2405 - accuracy: 0.9125 - val_loss: 0.3194 - val_accuracy: 0.8804 - lr: 0.0050\n",
      "Epoch 23/25\n",
      "1719/1719 [==============================] - 3s 2ms/step - loss: 0.2383 - accuracy: 0.9145 - val_loss: 0.3310 - val_accuracy: 0.8788 - lr: 0.0050\n",
      "Epoch 24/25\n",
      "1719/1719 [==============================] - 3s 2ms/step - loss: 0.2347 - accuracy: 0.9143 - val_loss: 0.3233 - val_accuracy: 0.8834 - lr: 0.0050\n",
      "Epoch 25/25\n",
      "1719/1719 [==============================] - 3s 2ms/step - loss: 0.2327 - accuracy: 0.9167 - val_loss: 0.3259 - val_accuracy: 0.8818 - lr: 0.0050\n"
     ]
    }
   ],
   "source": [
    "lr_scheduler = tf.keras.callbacks.ReduceLROnPlateau(factor=0.5, patience=5)\n",
    "history = model.fit(\n",
    "    X_train,\n",
    "    y_train,\n",
    "    epochs=n_epochs,\n",
    "    validation_data=(X_valid, y_valid),\n",
    "    callbacks=[lr_scheduler],\n",
    ")"
   ]
  },
  {
   "cell_type": "code",
   "execution_count": 102,
   "metadata": {},
   "outputs": [
    {
     "name": "stdout",
     "output_type": "stream",
     "text": [
      "Epoch 1/10\n",
      "1719/1719 [==============================] - 3s 2ms/step - loss: 0.6969 - accuracy: 0.7619 - val_loss: 0.4955 - val_accuracy: 0.8280\n",
      "Epoch 2/10\n",
      "1719/1719 [==============================] - 3s 1ms/step - loss: 0.4716 - accuracy: 0.8355 - val_loss: 0.4494 - val_accuracy: 0.8366\n",
      "Epoch 3/10\n",
      "1719/1719 [==============================] - 3s 2ms/step - loss: 0.4240 - accuracy: 0.8501 - val_loss: 0.4124 - val_accuracy: 0.8540\n",
      "Epoch 4/10\n",
      "1719/1719 [==============================] - 3s 2ms/step - loss: 0.4001 - accuracy: 0.8579 - val_loss: 0.3877 - val_accuracy: 0.8606\n",
      "Epoch 5/10\n",
      "1719/1719 [==============================] - 3s 2ms/step - loss: 0.3809 - accuracy: 0.8655 - val_loss: 0.3801 - val_accuracy: 0.8610\n",
      "Epoch 6/10\n",
      "1719/1719 [==============================] - 3s 2ms/step - loss: 0.3662 - accuracy: 0.8687 - val_loss: 0.3775 - val_accuracy: 0.8642\n",
      "Epoch 7/10\n",
      "1719/1719 [==============================] - 3s 2ms/step - loss: 0.3555 - accuracy: 0.8720 - val_loss: 0.3648 - val_accuracy: 0.8694\n",
      "Epoch 8/10\n",
      "1719/1719 [==============================] - 3s 2ms/step - loss: 0.3460 - accuracy: 0.8759 - val_loss: 0.3685 - val_accuracy: 0.8650\n",
      "Epoch 9/10\n",
      "1719/1719 [==============================] - 3s 2ms/step - loss: 0.3376 - accuracy: 0.8793 - val_loss: 0.3496 - val_accuracy: 0.8736\n",
      "Epoch 10/10\n",
      "1719/1719 [==============================] - 3s 2ms/step - loss: 0.3304 - accuracy: 0.8810 - val_loss: 0.3502 - val_accuracy: 0.8734\n"
     ]
    }
   ],
   "source": [
    "batch_size = 32\n",
    "n_epochs = 25\n",
    "n_steps = n_epochs * math.ceil(len(X_train) / batch_size)\n",
    "scheduled_learning_rate = tf.keras.optimizers.schedules.ExponentialDecay(\n",
    "    initial_learning_rate=0.01, decay_steps=n_steps, decay_rate=0.1\n",
    ")\n",
    "optimizer = tf.keras.optimizers.SGD(learning_rate=scheduled_learning_rate)\n",
    "model = build_and_train_model(optimizer)"
   ]
  },
  {
   "cell_type": "code",
   "execution_count": 103,
   "metadata": {},
   "outputs": [],
   "source": [
    "# 1 cycle scheduling\n",
    "K = tf.keras.backend\n",
    "\n",
    "\n",
    "class ExponentialLearningRate(tf.keras.callbacks.Callback):\n",
    "    def __init__(self, factor):\n",
    "        self.factor = factor\n",
    "        self.rates = []\n",
    "        self.losses = []\n",
    "\n",
    "    def on_epoch_begin(self, epoch, logs=None):\n",
    "        self.sum_of_epoch_losses = 0\n",
    "\n",
    "    def on_batch_end(self, batch, logs=None):\n",
    "        mean_epoch_loss = logs[\"loss\"]  # the epoch's mean loss so far\n",
    "        new_sum_of_epoch_losses = mean_epoch_loss * (batch + 1)\n",
    "        batch_loss = new_sum_of_epoch_losses - self.sum_of_epoch_losses\n",
    "        self.sum_of_epoch_losses = new_sum_of_epoch_losses\n",
    "        self.rates.append(K.get_value(self.model.optimizer.learning_rate))\n",
    "        self.losses.append(batch_loss)\n",
    "        K.set_value(\n",
    "            self.model.optimizer.learning_rate,\n",
    "            self.model.optimizer.learning_rate * self.factor,\n",
    "        )\n",
    "\n",
    "\n",
    "def find_learning_rate(model, X, y, epochs=1, batch_size=32, min_rate=1e-4, max_rate=1):\n",
    "    init_weights = model.get_weights()\n",
    "    iterations = math.ceil(len(X) / batch_size) * epochs\n",
    "    factor = (max_rate / min_rate) ** (1 / iterations)\n",
    "    init_lr = K.get_value(model.optimizer.learning_rate)\n",
    "    K.set_value(model.optimizer.learning_rate, min_rate)\n",
    "    exp_lr = ExponentialLearningRate(factor)\n",
    "    history = model.fit(X, y, epochs=epochs, batch_size=batch_size, callbacks=[exp_lr])\n",
    "    K.set_value(model.optimizer.learning_rate, init_lr)\n",
    "    model.set_weights(init_weights)\n",
    "    return exp_lr.rates, exp_lr.losses\n",
    "\n",
    "\n",
    "def plot_lr_vs_loss(rates, losses):\n",
    "    plt.plot(rates, losses, \"b\")\n",
    "    plt.gca().set_xscale(\"log\")\n",
    "    max_loss = losses[0] + min(losses)\n",
    "    plt.hlines(min(losses), min(rates), max(rates), color=\"k\")\n",
    "    plt.axis([min(rates), max(rates), 0, max_loss])\n",
    "    plt.xlabel(\"Learning rate\")\n",
    "    plt.ylabel(\"Loss\")\n",
    "    plt.grid()"
   ]
  },
  {
   "cell_type": "code",
   "execution_count": 104,
   "metadata": {},
   "outputs": [],
   "source": [
    "model = build_model()\n",
    "model.compile(\n",
    "    loss=\"sparse_categorical_crossentropy\",\n",
    "    optimizer=tf.keras.optimizers.SGD(learning_rate=0.001),\n",
    "    metrics=[\"accuracy\"],\n",
    ")"
   ]
  },
  {
   "cell_type": "code",
   "execution_count": 105,
   "metadata": {},
   "outputs": [
    {
     "name": "stdout",
     "output_type": "stream",
     "text": [
      "430/430 [==============================] - 2s 3ms/step - loss: 1.8844 - accuracy: 0.3636\n"
     ]
    },
    {
     "data": {
      "image/png": "[encoded data removed]",
      "text/plain": [
       "<Figure size 640x480 with 1 Axes>"
      ]
     },
     "metadata": {},
     "output_type": "display_data"
    }
   ],
   "source": [
    "batch_size = 128\n",
    "rates, losses = find_learning_rate(\n",
    "    model, X_train, y_train, epochs=1, batch_size=batch_size\n",
    ")\n",
    "plot_lr_vs_loss(rates, losses)"
   ]
  },
  {
   "cell_type": "code",
   "execution_count": 106,
   "metadata": {},
   "outputs": [],
   "source": [
    "class OneCycleScheduler(tf.keras.callbacks.Callback):\n",
    "    def __init__(\n",
    "        self, iterations, max_lr=1e-3, start_lr=None, last_iterations=None, last_lr=None\n",
    "    ):\n",
    "        self.iterations = iterations\n",
    "        self.max_lr = max_lr\n",
    "        self.start_lr = start_lr or max_lr / 10\n",
    "        self.last_iterations = last_iterations or iterations // 10 + 1\n",
    "        self.half_iteration = (iterations - self.last_iterations) // 2\n",
    "        self.last_lr = last_lr or self.start_lr / 1000\n",
    "        self.iteration = 0\n",
    "\n",
    "    def _interpolate(self, iter1, iter2, lr1, lr2):\n",
    "        return (lr2 - lr1) * (self.iteration - iter1) / (iter2 - iter1) + lr1\n",
    "\n",
    "    def on_batch_begin(self, batch, logs):\n",
    "        if self.iteration < self.half_iteration:\n",
    "            lr = self._interpolate(0, self.half_iteration, self.start_lr, self.max_lr)\n",
    "        elif self.iteration < 2 * self.half_iteration:\n",
    "            lr = self._interpolate(\n",
    "                self.half_iteration, 2 * self.half_iteration, self.max_lr, self.start_lr\n",
    "            )\n",
    "        else:\n",
    "            lr = self._interpolate(\n",
    "                2 * self.half_iteration, self.iterations, self.start_lr, self.last_lr\n",
    "            )\n",
    "        self.iteration += 1\n",
    "        K.set_value(self.model.optimizer.learning_rate, lr)"
   ]
  },
  {
   "cell_type": "code",
   "execution_count": 107,
   "metadata": {},
   "outputs": [
    {
     "name": "stdout",
     "output_type": "stream",
     "text": [
      "Epoch 1/25\n",
      "430/430 [==============================] - 1s 3ms/step - loss: 0.9743 - accuracy: 0.6840 - val_loss: 0.5969 - val_accuracy: 0.7994\n",
      "Epoch 2/25\n",
      "430/430 [==============================] - 1s 2ms/step - loss: 0.5812 - accuracy: 0.7995 - val_loss: 0.5017 - val_accuracy: 0.8224\n",
      "Epoch 3/25\n",
      "430/430 [==============================] - 1s 2ms/step - loss: 0.5080 - accuracy: 0.8220 - val_loss: 0.4752 - val_accuracy: 0.8298\n",
      "Epoch 4/25\n",
      "430/430 [==============================] - 1s 2ms/step - loss: 0.4633 - accuracy: 0.8362 - val_loss: 0.4278 - val_accuracy: 0.8476\n",
      "Epoch 5/25\n",
      "430/430 [==============================] - 1s 2ms/step - loss: 0.4325 - accuracy: 0.8462 - val_loss: 0.4394 - val_accuracy: 0.8406\n",
      "Epoch 6/25\n",
      "430/430 [==============================] - 1s 2ms/step - loss: 0.4039 - accuracy: 0.8552 - val_loss: 0.4799 - val_accuracy: 0.8220\n",
      "Epoch 7/25\n",
      "430/430 [==============================] - 1s 2ms/step - loss: 0.3859 - accuracy: 0.8604 - val_loss: 0.4125 - val_accuracy: 0.8488\n",
      "Epoch 8/25\n",
      "430/430 [==============================] - 1s 2ms/step - loss: 0.3692 - accuracy: 0.8651 - val_loss: 0.4183 - val_accuracy: 0.8448\n",
      "Epoch 9/25\n",
      "430/430 [==============================] - 1s 2ms/step - loss: 0.3550 - accuracy: 0.8693 - val_loss: 0.3784 - val_accuracy: 0.8708\n",
      "Epoch 10/25\n",
      "430/430 [==============================] - 1s 2ms/step - loss: 0.3409 - accuracy: 0.8753 - val_loss: 0.3835 - val_accuracy: 0.8616\n",
      "Epoch 11/25\n",
      "430/430 [==============================] - 1s 2ms/step - loss: 0.3306 - accuracy: 0.8780 - val_loss: 0.4041 - val_accuracy: 0.8436\n",
      "Epoch 12/25\n",
      "430/430 [==============================] - 1s 2ms/step - loss: 0.3184 - accuracy: 0.8817 - val_loss: 0.3556 - val_accuracy: 0.8690\n",
      "Epoch 13/25\n",
      "430/430 [==============================] - 1s 2ms/step - loss: 0.2997 - accuracy: 0.8899 - val_loss: 0.3283 - val_accuracy: 0.8830\n",
      "Epoch 14/25\n",
      "430/430 [==============================] - 1s 3ms/step - loss: 0.2848 - accuracy: 0.8953 - val_loss: 0.3906 - val_accuracy: 0.8648\n",
      "Epoch 15/25\n",
      "430/430 [==============================] - 1s 2ms/step - loss: 0.2714 - accuracy: 0.8992 - val_loss: 0.3478 - val_accuracy: 0.8770\n",
      "Epoch 16/25\n",
      "430/430 [==============================] - 1s 2ms/step - loss: 0.2615 - accuracy: 0.9037 - val_loss: 0.3293 - val_accuracy: 0.8778\n",
      "Epoch 17/25\n",
      "430/430 [==============================] - 1s 2ms/step - loss: 0.2512 - accuracy: 0.9064 - val_loss: 0.3138 - val_accuracy: 0.8862\n",
      "Epoch 18/25\n",
      "430/430 [==============================] - 1s 2ms/step - loss: 0.2402 - accuracy: 0.9113 - val_loss: 0.3185 - val_accuracy: 0.8868\n",
      "Epoch 19/25\n",
      "430/430 [==============================] - 1s 2ms/step - loss: 0.2327 - accuracy: 0.9137 - val_loss: 0.3166 - val_accuracy: 0.8804\n",
      "Epoch 20/25\n",
      "430/430 [==============================] - 1s 2ms/step - loss: 0.2246 - accuracy: 0.9181 - val_loss: 0.3128 - val_accuracy: 0.8886\n",
      "Epoch 21/25\n",
      "430/430 [==============================] - 1s 2ms/step - loss: 0.2182 - accuracy: 0.9198 - val_loss: 0.3033 - val_accuracy: 0.8918\n",
      "Epoch 22/25\n",
      "430/430 [==============================] - 1s 2ms/step - loss: 0.2120 - accuracy: 0.9225 - val_loss: 0.3088 - val_accuracy: 0.8908\n",
      "Epoch 23/25\n",
      "430/430 [==============================] - 1s 2ms/step - loss: 0.2063 - accuracy: 0.9250 - val_loss: 0.3030 - val_accuracy: 0.8912\n",
      "Epoch 24/25\n",
      "430/430 [==============================] - 1s 2ms/step - loss: 0.2034 - accuracy: 0.9266 - val_loss: 0.3037 - val_accuracy: 0.8926\n",
      "Epoch 25/25\n",
      "430/430 [==============================] - 1s 2ms/step - loss: 0.2011 - accuracy: 0.9270 - val_loss: 0.3026 - val_accuracy: 0.8916\n"
     ]
    }
   ],
   "source": [
    "# 1 cycle scheduling model\n",
    "model = build_model()\n",
    "model.compile(\n",
    "    loss=\"sparse_categorical_crossentropy\",\n",
    "    optimizer=tf.keras.optimizers.SGD(),\n",
    "    metrics=[\"accuracy\"],\n",
    ")\n",
    "n_epochs = 25\n",
    "onecycle = OneCycleScheduler(\n",
    "    math.ceil(len(X_train) / batch_size) * n_epochs, max_lr=0.1\n",
    ")\n",
    "history = model.fit(\n",
    "    X_train,\n",
    "    y_train,\n",
    "    epochs=n_epochs,\n",
    "    batch_size=batch_size,\n",
    "    validation_data=(X_valid, y_valid),\n",
    "    callbacks=[onecycle],\n",
    ")"
   ]
  },
  {
   "cell_type": "markdown",
   "metadata": {},
   "source": [
    "AVOIDING OVERFITTING THROUGH REGULARIZATION"
   ]
  },
  {
   "cell_type": "code",
   "execution_count": 108,
   "metadata": {},
   "outputs": [],
   "source": [
    "# this is how you appy l2 regularization to a layer's connection weights\n",
    "layer = tf.keras.layers.Dense(\n",
    "    100,\n",
    "    activation=\"relu\",\n",
    "    kernel_initializer=\"he_normal\",\n",
    "    kernel_regularizer=tf.keras.regularizers.l2(0.01),\n",
    ")\n",
    "# the l2 funtion returns a regularizer that will be called at each step during training to compute the regularization loss and add it to the main loss\n",
    "# if you want l1 regularization, use tf.keras.regularizers.l1() and if you want both, use tf.keras.regularizers.l1_l2()"
   ]
  },
  {
   "cell_type": "code",
   "execution_count": 112,
   "metadata": {},
   "outputs": [],
   "source": [
    "# this lets us create a thin wrapper around any function to turn it into a regularizer\n",
    "from functools import partial\n",
    "\n",
    "RegularizedDense = partial(\n",
    "    tf.keras.layers.Dense,\n",
    "    activation=\"relu\",\n",
    "    kernel_initializer=\"he_normal\",\n",
    "    kernel_regularizer=tf.keras.regularizers.l2(0.01),\n",
    ")\n",
    "model = tf.keras.models.Sequential(\n",
    "    [\n",
    "        tf.keras.layers.Flatten(input_shape=[28, 28]),\n",
    "        RegularizedDense(100),\n",
    "        RegularizedDense(100),\n",
    "        RegularizedDense(10, activation=\"softmax\"),\n",
    "    ]\n",
    ")"
   ]
  },
  {
   "cell_type": "code",
   "execution_count": 113,
   "metadata": {},
   "outputs": [
    {
     "name": "stdout",
     "output_type": "stream",
     "text": [
      "Epoch 1/2\n",
      "1719/1719 [==============================] - 3s 1ms/step - loss: 3.1384 - accuracy: 0.7675 - val_loss: 1.8649 - val_accuracy: 0.8222\n",
      "Epoch 2/2\n",
      "1719/1719 [==============================] - 2s 1ms/step - loss: 1.4301 - accuracy: 0.8107 - val_loss: 1.1305 - val_accuracy: 0.8148\n"
     ]
    }
   ],
   "source": [
    "optimizer = tf.keras.optimizers.SGD(learning_rate=0.02)\n",
    "model.compile(\n",
    "    loss=\"sparse_categorical_crossentropy\", optimizer=optimizer, metrics=[\"accuracy\"]\n",
    ")\n",
    "history = model.fit(X_train, y_train, epochs=2, validation_data=(X_valid, y_valid))"
   ]
  },
  {
   "cell_type": "code",
   "execution_count": 115,
   "metadata": {},
   "outputs": [],
   "source": [
    "# dropout\n",
    "# dropout is one of the most popular regularization techniques for deep neural networks and it is fairly efficient\n",
    "# it forces neurons to only rely on their inputs and not on the output of their peers so they become more independent and more robust\n",
    "# a unique neural network is generated at each training step and all these networks share the same weights\n",
    "# after training, neurons don't get dropped anymore\n",
    "model = tf.keras.models.Sequential(\n",
    "    [\n",
    "        tf.keras.layers.Flatten(input_shape=[28, 28]),\n",
    "        tf.keras.layers.Dropout(rate=0.2),\n",
    "        tf.keras.layers.Dense(100, activation=\"relu\", kernel_initializer=\"he_normal\"),\n",
    "        tf.keras.layers.Dropout(rate=0.2),\n",
    "        tf.keras.layers.Dense(100, activation=\"relu\", kernel_initializer=\"he_normal\"),\n",
    "        tf.keras.layers.Dropout(rate=0.2),\n",
    "        tf.keras.layers.Dense(10, activation=\"softmax\"),\n",
    "    ]\n",
    ")"
   ]
  },
  {
   "cell_type": "code",
   "execution_count": 116,
   "metadata": {},
   "outputs": [
    {
     "name": "stdout",
     "output_type": "stream",
     "text": [
      "Epoch 1/10\n",
      "1719/1719 [==============================] - 3s 2ms/step - loss: 0.6691 - accuracy: 0.7551 - val_loss: 0.4656 - val_accuracy: 0.8264\n",
      "Epoch 2/10\n",
      "1719/1719 [==============================] - 3s 2ms/step - loss: 0.5125 - accuracy: 0.8127 - val_loss: 0.4260 - val_accuracy: 0.8384\n",
      "Epoch 3/10\n",
      "1719/1719 [==============================] - 3s 2ms/step - loss: 0.4755 - accuracy: 0.8255 - val_loss: 0.4073 - val_accuracy: 0.8456\n",
      "Epoch 4/10\n",
      "1719/1719 [==============================] - 3s 2ms/step - loss: 0.4522 - accuracy: 0.8344 - val_loss: 0.3854 - val_accuracy: 0.8554\n",
      "Epoch 5/10\n",
      "1719/1719 [==============================] - 3s 2ms/step - loss: 0.4365 - accuracy: 0.8391 - val_loss: 0.3719 - val_accuracy: 0.8580\n",
      "Epoch 6/10\n",
      "1719/1719 [==============================] - 3s 2ms/step - loss: 0.4236 - accuracy: 0.8434 - val_loss: 0.3699 - val_accuracy: 0.8626\n",
      "Epoch 7/10\n",
      "1719/1719 [==============================] - 3s 2ms/step - loss: 0.4151 - accuracy: 0.8474 - val_loss: 0.3688 - val_accuracy: 0.8562\n",
      "Epoch 8/10\n",
      "1719/1719 [==============================] - 3s 2ms/step - loss: 0.4127 - accuracy: 0.8477 - val_loss: 0.3527 - val_accuracy: 0.8668\n",
      "Epoch 9/10\n",
      "1719/1719 [==============================] - 3s 2ms/step - loss: 0.4001 - accuracy: 0.8534 - val_loss: 0.3506 - val_accuracy: 0.8642\n",
      "Epoch 10/10\n",
      "1719/1719 [==============================] - 3s 2ms/step - loss: 0.3928 - accuracy: 0.8554 - val_loss: 0.3544 - val_accuracy: 0.8712\n"
     ]
    }
   ],
   "source": [
    "optimizer = tf.keras.optimizers.SGD(learning_rate=0.01, momentum=0.9)\n",
    "model.compile(\n",
    "    loss=\"sparse_categorical_crossentropy\", optimizer=optimizer, metrics=[\"accuracy\"]\n",
    ")\n",
    "history = model.fit(X_train, y_train, epochs=10, validation_data=(X_valid, y_valid))"
   ]
  },
  {
   "cell_type": "code",
   "execution_count": 117,
   "metadata": {},
   "outputs": [
    {
     "name": "stdout",
     "output_type": "stream",
     "text": [
      "1719/1719 [==============================] - 2s 1ms/step - loss: 0.3126 - accuracy: 0.8843\n"
     ]
    },
    {
     "data": {
      "text/plain": [
       "[0.3125638961791992, 0.8842909336090088]"
      ]
     },
     "execution_count": 117,
     "metadata": {},
     "output_type": "execute_result"
    }
   ],
   "source": [
    "model.evaluate(X_train, y_train)"
   ]
  },
  {
   "cell_type": "code",
   "execution_count": 118,
   "metadata": {},
   "outputs": [
    {
     "name": "stdout",
     "output_type": "stream",
     "text": [
      "313/313 [==============================] - 0s 1ms/step - loss: 0.3698 - accuracy: 0.8655\n"
     ]
    },
    {
     "data": {
      "text/plain": [
       "[0.36983945965766907, 0.8654999732971191]"
      ]
     },
     "execution_count": 118,
     "metadata": {},
     "output_type": "execute_result"
    }
   ],
   "source": [
    "model.evaluate(X_test, y_test)"
   ]
  },
  {
   "cell_type": "code",
   "execution_count": 119,
   "metadata": {},
   "outputs": [],
   "source": [
    "y_probas = np.stack([model(X_test, training=True) for sample in range(100)])\n",
    "y_proba = y_probas.mean(axis=0)"
   ]
  },
  {
   "cell_type": "code",
   "execution_count": 120,
   "metadata": {},
   "outputs": [
    {
     "name": "stdout",
     "output_type": "stream",
     "text": [
      "1/1 [==============================] - 0s 139ms/step\n"
     ]
    },
    {
     "data": {
      "text/plain": [
       "array([[0.   , 0.   , 0.   , 0.   , 0.   , 0.026, 0.   , 0.133, 0.   ,\n",
       "        0.841]], dtype=float32)"
      ]
     },
     "execution_count": 120,
     "metadata": {},
     "output_type": "execute_result"
    }
   ],
   "source": [
    "model.predict(X_test[:1]).round(3)"
   ]
  },
  {
   "cell_type": "code",
   "execution_count": 121,
   "metadata": {},
   "outputs": [
    {
     "data": {
      "text/plain": [
       "array([0.   , 0.   , 0.   , 0.   , 0.   , 0.071, 0.   , 0.211, 0.001,\n",
       "       0.715], dtype=float32)"
      ]
     },
     "execution_count": 121,
     "metadata": {},
     "output_type": "execute_result"
    }
   ],
   "source": [
    "y_proba[0].round(3)"
   ]
  },
  {
   "cell_type": "code",
   "execution_count": 122,
   "metadata": {},
   "outputs": [
    {
     "data": {
      "text/plain": [
       "array([0.001, 0.   , 0.001, 0.002, 0.002, 0.098, 0.001, 0.157, 0.006,\n",
       "       0.184], dtype=float32)"
      ]
     },
     "execution_count": 122,
     "metadata": {},
     "output_type": "execute_result"
    }
   ],
   "source": [
    "y_std = y_probas.std(axis=0)\n",
    "y_std[0].round(3)"
   ]
  },
  {
   "cell_type": "code",
   "execution_count": 123,
   "metadata": {},
   "outputs": [
    {
     "data": {
      "text/plain": [
       "0.8673"
      ]
     },
     "execution_count": 123,
     "metadata": {},
     "output_type": "execute_result"
    }
   ],
   "source": [
    "y_pred = y_proba.argmax(axis=1)\n",
    "accuracy = np.sum(y_pred == y_test) / len(y_test)\n",
    "accuracy"
   ]
  },
  {
   "cell_type": "code",
   "execution_count": 124,
   "metadata": {},
   "outputs": [],
   "source": [
    "class MCDropout(tf.keras.layers.Dropout):\n",
    "    def call(self, inputs, training=None):\n",
    "        return super().call(inputs, training=True)"
   ]
  },
  {
   "cell_type": "code",
   "execution_count": 125,
   "metadata": {},
   "outputs": [],
   "source": [
    "# shows how to convert Dropout to MCDropout in a Sequential model\n",
    "Dropout = tf.keras.layers.Dropout\n",
    "mc_model = tf.keras.Sequential(\n",
    "    [\n",
    "        MCDropout(layer.rate) if isinstance(layer, Dropout) else layer\n",
    "        for layer in model.layers\n",
    "    ]\n",
    ")\n",
    "mc_model.set_weights(model.get_weights())"
   ]
  },
  {
   "cell_type": "code",
   "execution_count": 126,
   "metadata": {},
   "outputs": [
    {
     "name": "stdout",
     "output_type": "stream",
     "text": [
      "Model: \"sequential_3\"\n",
      "_________________________________________________________________\n",
      " Layer (type)                Output Shape              Param #   \n",
      "=================================================================\n",
      " flatten_2 (Flatten)         (None, 784)               0         \n",
      "                                                                 \n",
      " mc_dropout (MCDropout)      (None, 784)               0         \n",
      "                                                                 \n",
      " dense_7 (Dense)             (None, 100)               78500     \n",
      "                                                                 \n",
      " mc_dropout_1 (MCDropout)    (None, 100)               0         \n",
      "                                                                 \n",
      " dense_8 (Dense)             (None, 100)               10100     \n",
      "                                                                 \n",
      " mc_dropout_2 (MCDropout)    (None, 100)               0         \n",
      "                                                                 \n",
      " dense_9 (Dense)             (None, 10)                1010      \n",
      "                                                                 \n",
      "=================================================================\n",
      "Total params: 89,610\n",
      "Trainable params: 89,610\n",
      "Non-trainable params: 0\n",
      "_________________________________________________________________\n"
     ]
    }
   ],
   "source": [
    "mc_model.summary()"
   ]
  },
  {
   "cell_type": "code",
   "execution_count": 127,
   "metadata": {},
   "outputs": [
    {
     "name": "stdout",
     "output_type": "stream",
     "text": [
      "1/1 [==============================] - 0s 88ms/step\n",
      "1/1 [==============================] - 0s 23ms/step\n",
      "1/1 [==============================] - 0s 21ms/step\n",
      "1/1 [==============================] - 0s 21ms/step\n",
      "1/1 [==============================] - 0s 20ms/step\n",
      "1/1 [==============================] - 0s 20ms/step\n",
      "1/1 [==============================] - 0s 24ms/step\n",
      "1/1 [==============================] - 0s 27ms/step\n",
      "1/1 [==============================] - 0s 28ms/step\n",
      "1/1 [==============================] - 0s 24ms/step\n",
      "1/1 [==============================] - 0s 21ms/step\n",
      "1/1 [==============================] - 0s 21ms/step\n",
      "1/1 [==============================] - 0s 19ms/step\n",
      "1/1 [==============================] - 0s 20ms/step\n",
      "1/1 [==============================] - 0s 20ms/step\n",
      "1/1 [==============================] - 0s 19ms/step\n",
      "1/1 [==============================] - 0s 19ms/step\n",
      "1/1 [==============================] - 0s 18ms/step\n",
      "1/1 [==============================] - 0s 19ms/step\n",
      "1/1 [==============================] - 0s 18ms/step\n",
      "1/1 [==============================] - 0s 19ms/step\n",
      "1/1 [==============================] - 0s 19ms/step\n",
      "1/1 [==============================] - 0s 18ms/step\n",
      "1/1 [==============================] - 0s 19ms/step\n",
      "1/1 [==============================] - 0s 20ms/step\n",
      "1/1 [==============================] - 0s 20ms/step\n",
      "1/1 [==============================] - 0s 19ms/step\n",
      "1/1 [==============================] - 0s 18ms/step\n",
      "1/1 [==============================] - 0s 18ms/step\n",
      "1/1 [==============================] - 0s 20ms/step\n",
      "1/1 [==============================] - 0s 20ms/step\n",
      "1/1 [==============================] - 0s 24ms/step\n",
      "1/1 [==============================] - 0s 23ms/step\n",
      "1/1 [==============================] - 0s 22ms/step\n",
      "1/1 [==============================] - 0s 19ms/step\n",
      "1/1 [==============================] - 0s 22ms/step\n",
      "1/1 [==============================] - 0s 22ms/step\n",
      "1/1 [==============================] - 0s 23ms/step\n",
      "1/1 [==============================] - 0s 22ms/step\n",
      "1/1 [==============================] - 0s 21ms/step\n",
      "1/1 [==============================] - 0s 21ms/step\n",
      "1/1 [==============================] - 0s 20ms/step\n",
      "1/1 [==============================] - 0s 21ms/step\n",
      "1/1 [==============================] - 0s 20ms/step\n",
      "1/1 [==============================] - 0s 17ms/step\n",
      "1/1 [==============================] - 0s 20ms/step\n",
      "1/1 [==============================] - 0s 19ms/step\n",
      "1/1 [==============================] - 0s 20ms/step\n",
      "1/1 [==============================] - 0s 19ms/step\n",
      "1/1 [==============================] - 0s 19ms/step\n",
      "1/1 [==============================] - 0s 18ms/step\n",
      "1/1 [==============================] - 0s 18ms/step\n",
      "1/1 [==============================] - 0s 20ms/step\n",
      "1/1 [==============================] - 0s 20ms/step\n",
      "1/1 [==============================] - 0s 20ms/step\n",
      "1/1 [==============================] - 0s 19ms/step\n",
      "1/1 [==============================] - 0s 20ms/step\n",
      "1/1 [==============================] - 0s 20ms/step\n",
      "1/1 [==============================] - 0s 65ms/step\n",
      "1/1 [==============================] - 0s 19ms/step\n",
      "1/1 [==============================] - 0s 20ms/step\n",
      "1/1 [==============================] - 0s 20ms/step\n",
      "1/1 [==============================] - 0s 20ms/step\n",
      "1/1 [==============================] - 0s 20ms/step\n",
      "1/1 [==============================] - 0s 19ms/step\n",
      "1/1 [==============================] - 0s 19ms/step\n",
      "1/1 [==============================] - 0s 19ms/step\n",
      "1/1 [==============================] - 0s 17ms/step\n",
      "1/1 [==============================] - 0s 19ms/step\n",
      "1/1 [==============================] - 0s 18ms/step\n",
      "1/1 [==============================] - 0s 18ms/step\n",
      "1/1 [==============================] - 0s 18ms/step\n",
      "1/1 [==============================] - 0s 18ms/step\n",
      "1/1 [==============================] - 0s 18ms/step\n",
      "1/1 [==============================] - 0s 17ms/step\n",
      "1/1 [==============================] - 0s 19ms/step\n",
      "1/1 [==============================] - 0s 18ms/step\n",
      "1/1 [==============================] - 0s 18ms/step\n",
      "1/1 [==============================] - 0s 19ms/step\n",
      "1/1 [==============================] - 0s 18ms/step\n",
      "1/1 [==============================] - 0s 18ms/step\n",
      "1/1 [==============================] - 0s 18ms/step\n",
      "1/1 [==============================] - 0s 19ms/step\n",
      "1/1 [==============================] - 0s 18ms/step\n",
      "1/1 [==============================] - 0s 18ms/step\n",
      "1/1 [==============================] - 0s 18ms/step\n",
      "1/1 [==============================] - 0s 17ms/step\n",
      "1/1 [==============================] - 0s 18ms/step\n",
      "1/1 [==============================] - 0s 19ms/step\n",
      "1/1 [==============================] - 0s 18ms/step\n",
      "1/1 [==============================] - 0s 18ms/step\n",
      "1/1 [==============================] - 0s 18ms/step\n",
      "1/1 [==============================] - 0s 19ms/step\n",
      "1/1 [==============================] - 0s 18ms/step\n",
      "1/1 [==============================] - 0s 18ms/step\n",
      "1/1 [==============================] - 0s 18ms/step\n",
      "1/1 [==============================] - 0s 18ms/step\n",
      "1/1 [==============================] - 0s 18ms/step\n",
      "1/1 [==============================] - 0s 18ms/step\n",
      "1/1 [==============================] - 0s 18ms/step\n"
     ]
    },
    {
     "data": {
      "text/plain": [
       "array([[0.  , 0.  , 0.  , 0.  , 0.  , 0.08, 0.  , 0.18, 0.  , 0.73]],\n",
       "      dtype=float32)"
      ]
     },
     "execution_count": 127,
     "metadata": {},
     "output_type": "execute_result"
    }
   ],
   "source": [
    "tf.random.set_seed(42)\n",
    "np.mean([mc_model.predict(X_test[:1]) for sample in range(100)], axis=0).round(2)"
   ]
  },
  {
   "cell_type": "code",
   "execution_count": 128,
   "metadata": {},
   "outputs": [],
   "source": [
    "# max norm regularization\n",
    "# for each neuron it constrains the weights of the incoming connections such that ||w||2 <= r where r is the max norm hyperparameter and ||.||2 is the l2 norm\n",
    "# max norm regularization does not add a regularization loss term to the overall loss function but instead it is typically implemented by computing ||w||2 after each training step and clipping w if needed\n",
    "# this constraint forces the weights to remain small and the optimization algorithm will have a harder time overfitting the training set\n",
    "dense = tf.keras.layers.Dense(\n",
    "    100,\n",
    "    activation=\"relu\",\n",
    "    kernel_initializer=\"he_normal\",\n",
    "    kernel_constraint=tf.keras.constraints.max_norm(1.0),\n",
    ")"
   ]
  },
  {
   "cell_type": "code",
   "execution_count": 129,
   "metadata": {},
   "outputs": [
    {
     "name": "stdout",
     "output_type": "stream",
     "text": [
      "Epoch 1/10\n",
      "1719/1719 [==============================] - 3s 2ms/step - loss: 0.5514 - accuracy: 0.8024 - val_loss: 0.4348 - val_accuracy: 0.8304\n",
      "Epoch 2/10\n",
      "1719/1719 [==============================] - 3s 2ms/step - loss: 0.4127 - accuracy: 0.8494 - val_loss: 0.4356 - val_accuracy: 0.8294\n",
      "Epoch 3/10\n",
      "1719/1719 [==============================] - 3s 2ms/step - loss: 0.3814 - accuracy: 0.8594 - val_loss: 0.3984 - val_accuracy: 0.8586\n",
      "Epoch 4/10\n",
      "1719/1719 [==============================] - 3s 2ms/step - loss: 0.3621 - accuracy: 0.8664 - val_loss: 0.3519 - val_accuracy: 0.8706\n",
      "Epoch 5/10\n",
      "1719/1719 [==============================] - 3s 2ms/step - loss: 0.3524 - accuracy: 0.8686 - val_loss: 0.3524 - val_accuracy: 0.8660\n",
      "Epoch 6/10\n",
      "1719/1719 [==============================] - 3s 2ms/step - loss: 0.3453 - accuracy: 0.8710 - val_loss: 0.4031 - val_accuracy: 0.8570\n",
      "Epoch 7/10\n",
      "1719/1719 [==============================] - 3s 2ms/step - loss: 0.3339 - accuracy: 0.8751 - val_loss: 0.3758 - val_accuracy: 0.8620\n",
      "Epoch 8/10\n",
      "1719/1719 [==============================] - 3s 2ms/step - loss: 0.3324 - accuracy: 0.8758 - val_loss: 0.3661 - val_accuracy: 0.8666\n",
      "Epoch 9/10\n",
      "1719/1719 [==============================] - 3s 2ms/step - loss: 0.3314 - accuracy: 0.8764 - val_loss: 0.3502 - val_accuracy: 0.8628\n",
      "Epoch 10/10\n",
      "1719/1719 [==============================] - 3s 2ms/step - loss: 0.3243 - accuracy: 0.8797 - val_loss: 0.4159 - val_accuracy: 0.8490\n"
     ]
    }
   ],
   "source": [
    "# shows how to apply max norm to every hidden layer in a model\n",
    "MaxNormDense = partial(\n",
    "    tf.keras.layers.Dense,\n",
    "    activation=\"relu\",\n",
    "    kernel_initializer=\"he_normal\",\n",
    "    kernel_constraint=tf.keras.constraints.max_norm(1.0),\n",
    ")\n",
    "\n",
    "tf.random.set_seed(42)\n",
    "model = tf.keras.Sequential(\n",
    "    [\n",
    "        tf.keras.layers.Flatten(input_shape=[28, 28]),\n",
    "        MaxNormDense(100),\n",
    "        MaxNormDense(100),\n",
    "        tf.keras.layers.Dense(10, activation=\"softmax\"),\n",
    "    ]\n",
    ")\n",
    "optimizer = tf.keras.optimizers.SGD(learning_rate=0.01, momentum=0.9)\n",
    "model.compile(\n",
    "    loss=\"sparse_categorical_crossentropy\", optimizer=optimizer, metrics=[\"accuracy\"]\n",
    ")\n",
    "history = model.fit(X_train, y_train, epochs=10, validation_data=(X_valid, y_valid))"
   ]
  }
 ],
 "metadata": {
  "kernelspec": {
   "display_name": "ML",
   "language": "python",
   "name": "python3"
  },
  "language_info": {
   "codemirror_mode": {
    "name": "ipython",
    "version": 3
   },
   "file_extension": ".py",
   "mimetype": "text/x-python",
   "name": "python",
   "nbconvert_exporter": "python",
   "pygments_lexer": "ipython3",
   "version": "3.11.3"
  },
  "orig_nbformat": 4
 },
 "nbformat": 4,
 "nbformat_minor": 2
}
