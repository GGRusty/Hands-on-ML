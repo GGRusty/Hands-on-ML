{
 "cells": [
  {
   "cell_type": "code",
   "execution_count": 28,
   "metadata": {},
   "outputs": [],
   "source": [
    "import numpy as np\n",
    "import pandas as pd\n",
    "import tensorflow as tf\n",
    "from sklearn.datasets import load_iris, fetch_california_housing\n",
    "from sklearn.metrics import mean_squared_error\n",
    "from sklearn.model_selection import train_test_split\n",
    "from sklearn.neural_network import MLPRegressor\n",
    "from sklearn.preprocessing import StandardScaler\n",
    "from sklearn.pipeline import make_pipeline\n",
    "from sklearn.linear_model import Perceptron\n",
    "\n",
    "from pathlib import Path\n",
    "\n",
    "IMAGES_PATH = Path() / \"images\" / \"ann\"\n",
    "IMAGES_PATH.mkdir(parents=True, exist_ok=True)\n",
    "\n",
    "import matplotlib.pyplot as plt\n",
    "\n",
    "plt.rc(\"font\", size=14)\n",
    "plt.rc(\"axes\", labelsize=14, titlesize=14)\n",
    "plt.rc(\"legend\", fontsize=14)\n",
    "plt.rc(\"xtick\", labelsize=10)\n",
    "plt.rc(\"ytick\", labelsize=10)"
   ]
  },
  {
   "cell_type": "code",
   "execution_count": 2,
   "metadata": {},
   "outputs": [],
   "source": [
    "iris = load_iris(as_frame=True)\n",
    "X = iris.data[[\"petal length (cm)\", \"petal width (cm)\"]].values\n",
    "y = iris.target == 0  # Iris setosa\n",
    "\n",
    "per_clf = Perceptron(random_state=42)\n",
    "per_clf.fit(X, y)\n",
    "\n",
    "X_new = [[2, 0.5], [3, 1]]\n",
    "y_pred = per_clf.predict(X_new)  # predics true or false for these two new samples\n",
    "# the perceptron is equivalent to a SGDClassifier with loss=\"perceptron\", no regularization, and a constant learning rate = to 1"
   ]
  },
  {
   "cell_type": "code",
   "execution_count": 3,
   "metadata": {},
   "outputs": [
    {
     "data": {
      "text/plain": [
       "array([ True, False])"
      ]
     },
     "execution_count": 3,
     "metadata": {},
     "output_type": "execute_result"
    }
   ],
   "source": [
    "y_pred"
   ]
  },
  {
   "cell_type": "code",
   "execution_count": 4,
   "metadata": {},
   "outputs": [],
   "source": [
    "# this buids a neural network with 3 hidden layers with 50 neurons each there are no missing values it uses relu activation and Adam optimization similar to gradient descent it has a little bit of l2 regularization that is controled with alpha hyperparameter\n",
    "housing = fetch_california_housing()\n",
    "X_train_full, X_test, y_train_full, y_test = train_test_split(\n",
    "    housing.data, housing.target, random_state=42\n",
    ")\n",
    "X_train, X_valid, y_train, y_valid = train_test_split(\n",
    "    X_train_full, y_train_full, random_state=42\n",
    ")\n",
    "\n",
    "mlp_reg = MLPRegressor(hidden_layer_sizes=[50, 50, 50], random_state=42)\n",
    "pipeline = make_pipeline(StandardScaler(), mlp_reg)\n",
    "pipeline.fit(X_train, y_train)\n",
    "y_pred = pipeline.predict(X_valid)\n",
    "rmse = mean_squared_error(y_valid, y_pred, squared=False)"
   ]
  },
  {
   "cell_type": "code",
   "execution_count": 5,
   "metadata": {},
   "outputs": [
    {
     "data": {
      "text/plain": [
       "0.5053326657968706"
      ]
     },
     "execution_count": 5,
     "metadata": {},
     "output_type": "execute_result"
    }
   ],
   "source": [
    "rmse\n",
    "# this is comparable to what we got with the random forest\n",
    "# this doesnt use an activation function in the output layer if we want a positive value we can use relu or softplus or if we want a value between 0 and 1 we can use logistic or softmax but the MLPRegressor class uses no activation function in the output layer\n",
    "# if there are alot of outliers we can use the huber loss instead of the mse loss it is less sensitive to outliers however MLPRegressor does not support it"
   ]
  },
  {
   "cell_type": "code",
   "execution_count": 6,
   "metadata": {},
   "outputs": [],
   "source": [
    "fashion_mnist = tf.keras.datasets.fashion_mnist.load_data()\n",
    "(X_train_full, y_train_full), (X_test, y_test) = fashion_mnist\n",
    "X_train, y_train = X_train_full[:-5000], y_train_full[:-5000]\n",
    "X_valid, y_valid = X_train_full[-5000:], y_train_full[-5000:]"
   ]
  },
  {
   "cell_type": "code",
   "execution_count": 7,
   "metadata": {},
   "outputs": [
    {
     "data": {
      "text/plain": [
       "(55000, 28, 28)"
      ]
     },
     "execution_count": 7,
     "metadata": {},
     "output_type": "execute_result"
    }
   ],
   "source": [
    "X_train.shape"
   ]
  },
  {
   "cell_type": "code",
   "execution_count": 8,
   "metadata": {},
   "outputs": [
    {
     "data": {
      "text/plain": [
       "dtype('uint8')"
      ]
     },
     "execution_count": 8,
     "metadata": {},
     "output_type": "execute_result"
    }
   ],
   "source": [
    "X_train.dtype"
   ]
  },
  {
   "cell_type": "code",
   "execution_count": 9,
   "metadata": {},
   "outputs": [],
   "source": [
    "# we are scaling the pixel intensities down to the 0-1 range and converting them to floats by dividing by 255.\n",
    "X_train, X_valid, X_test = X_train / 255.0, X_valid / 255.0, X_test / 255.0"
   ]
  },
  {
   "cell_type": "code",
   "execution_count": 10,
   "metadata": {},
   "outputs": [],
   "source": [
    "class_names = [\n",
    "    \"T-shirt/top\",\n",
    "    \"Trouser\",\n",
    "    \"Pullover\",\n",
    "    \"Dress\",\n",
    "    \"Coat\",\n",
    "    \"Sandal\",\n",
    "    \"Shirt\",\n",
    "    \"Sneaker\",\n",
    "    \"Bag\",\n",
    "    \"Ankle boot\",\n",
    "]"
   ]
  },
  {
   "cell_type": "code",
   "execution_count": 11,
   "metadata": {},
   "outputs": [
    {
     "data": {
      "text/plain": [
       "'Ankle boot'"
      ]
     },
     "execution_count": 11,
     "metadata": {},
     "output_type": "execute_result"
    }
   ],
   "source": [
    "class_names[y_train[0]]"
   ]
  },
  {
   "cell_type": "code",
   "execution_count": 12,
   "metadata": {},
   "outputs": [],
   "source": [
    "# this is a classification MLP with two hidden layers\n",
    "tf.keras.utils.set_random_seed(42)\n",
    "# model = tf.keras.models.Sequential()\n",
    "# model.add(tf.keras.layers.Input(shape=[28, 28]))\n",
    "# model.add(tf.keras.layers.Flatten())\n",
    "# model.add(tf.keras.layers.Dense(300, activation=\"relu\"))\n",
    "# model.add(tf.keras.layers.Dense(100, activation=\"relu\"))\n",
    "# model.add(tf.keras.layers.Dense(10, activation=\"softmax\"))"
   ]
  },
  {
   "cell_type": "code",
   "execution_count": 13,
   "metadata": {},
   "outputs": [
    {
     "name": "stdout",
     "output_type": "stream",
     "text": [
      "Model: \"sequential\"\n",
      "_________________________________________________________________\n",
      " Layer (type)                Output Shape              Param #   \n",
      "=================================================================\n",
      " flatten (Flatten)           (None, 784)               0         \n",
      "                                                                 \n",
      " dense (Dense)               (None, 300)               235500    \n",
      "                                                                 \n",
      " dense_1 (Dense)             (None, 100)               30100     \n",
      "                                                                 \n",
      " dense_2 (Dense)             (None, 10)                1010      \n",
      "                                                                 \n",
      "=================================================================\n",
      "Total params: 266,610\n",
      "Trainable params: 266,610\n",
      "Non-trainable params: 0\n",
      "_________________________________________________________________\n"
     ]
    }
   ],
   "source": [
    "# this is the same model as above but setup in a better way\n",
    "model = tf.keras.models.Sequential(\n",
    "    [\n",
    "        tf.keras.layers.Flatten(input_shape=[28, 28]),\n",
    "        tf.keras.layers.Dense(300, activation=\"relu\"),\n",
    "        tf.keras.layers.Dense(100, activation=\"relu\"),\n",
    "        tf.keras.layers.Dense(10, activation=\"softmax\"),\n",
    "    ]\n",
    ")\n",
    "model.summary()"
   ]
  },
  {
   "cell_type": "code",
   "execution_count": 14,
   "metadata": {},
   "outputs": [
    {
     "data": {
      "image/png": "[encoded data removed]",
      "text/plain": [
       "<IPython.core.display.Image object>"
      ]
     },
     "execution_count": 14,
     "metadata": {},
     "output_type": "execute_result"
    }
   ],
   "source": [
    "tf.keras.utils.plot_model(model, \"my_fashion_mnist_model.png\", show_shapes=True)"
   ]
  },
  {
   "cell_type": "code",
   "execution_count": 15,
   "metadata": {},
   "outputs": [
    {
     "data": {
      "text/plain": [
       "[<keras.layers.reshaping.flatten.Flatten at 0x134d4a590>,\n",
       " <keras.layers.core.dense.Dense at 0x135350c90>,\n",
       " <keras.layers.core.dense.Dense at 0x135386a90>,\n",
       " <keras.layers.core.dense.Dense at 0x135369a10>]"
      ]
     },
     "execution_count": 15,
     "metadata": {},
     "output_type": "execute_result"
    }
   ],
   "source": [
    "model.layers"
   ]
  },
  {
   "cell_type": "code",
   "execution_count": 16,
   "metadata": {},
   "outputs": [
    {
     "data": {
      "text/plain": [
       "'dense'"
      ]
     },
     "execution_count": 16,
     "metadata": {},
     "output_type": "execute_result"
    }
   ],
   "source": [
    "hidden1 = model.layers[1]\n",
    "hidden1.name"
   ]
  },
  {
   "cell_type": "code",
   "execution_count": 17,
   "metadata": {},
   "outputs": [
    {
     "data": {
      "text/plain": [
       "True"
      ]
     },
     "execution_count": 17,
     "metadata": {},
     "output_type": "execute_result"
    }
   ],
   "source": [
    "model.get_layer(\"dense\") is hidden1"
   ]
  },
  {
   "cell_type": "code",
   "execution_count": 18,
   "metadata": {},
   "outputs": [
    {
     "data": {
      "text/plain": [
       "array([[ 5.3297073e-02,  2.4198458e-02, -2.1023259e-02, ...,\n",
       "         3.5795525e-02, -7.2061256e-02,  4.6089381e-02],\n",
       "       [ 2.2632368e-02,  5.9892908e-03,  1.4587238e-02, ...,\n",
       "         8.7194145e-03,  4.9419701e-05,  2.4750374e-02],\n",
       "       [-4.4513181e-02,  4.6743892e-02,  1.0291643e-02, ...,\n",
       "        -4.6910450e-02,  1.4408320e-02,  5.3473756e-02],\n",
       "       ...,\n",
       "       [-6.0724389e-02, -2.6091568e-02, -2.8863657e-02, ...,\n",
       "         4.1813411e-02,  3.5757974e-02,  7.3892877e-02],\n",
       "       [-4.4557646e-02, -5.9672445e-02,  6.5973431e-02, ...,\n",
       "        -5.0661370e-02, -2.6788648e-02,  5.1353276e-02],\n",
       "       [-1.4996272e-02,  1.0063291e-02, -3.2075007e-02, ...,\n",
       "         5.3060532e-02,  6.6655308e-02, -6.4764827e-02]], dtype=float32)"
      ]
     },
     "execution_count": 18,
     "metadata": {},
     "output_type": "execute_result"
    }
   ],
   "source": [
    "weights, biases = hidden1.get_weights()\n",
    "weights"
   ]
  },
  {
   "cell_type": "code",
   "execution_count": 19,
   "metadata": {},
   "outputs": [
    {
     "data": {
      "text/plain": [
       "(784, 300)"
      ]
     },
     "execution_count": 19,
     "metadata": {},
     "output_type": "execute_result"
    }
   ],
   "source": [
    "weights.shape"
   ]
  },
  {
   "cell_type": "code",
   "execution_count": 20,
   "metadata": {},
   "outputs": [
    {
     "data": {
      "text/plain": [
       "array([0., 0., 0., 0., 0., 0., 0., 0., 0., 0., 0., 0., 0., 0., 0., 0., 0.,\n",
       "       0., 0., 0., 0., 0., 0., 0., 0., 0., 0., 0., 0., 0., 0., 0., 0., 0.,\n",
       "       0., 0., 0., 0., 0., 0., 0., 0., 0., 0., 0., 0., 0., 0., 0., 0., 0.,\n",
       "       0., 0., 0., 0., 0., 0., 0., 0., 0., 0., 0., 0., 0., 0., 0., 0., 0.,\n",
       "       0., 0., 0., 0., 0., 0., 0., 0., 0., 0., 0., 0., 0., 0., 0., 0., 0.,\n",
       "       0., 0., 0., 0., 0., 0., 0., 0., 0., 0., 0., 0., 0., 0., 0., 0., 0.,\n",
       "       0., 0., 0., 0., 0., 0., 0., 0., 0., 0., 0., 0., 0., 0., 0., 0., 0.,\n",
       "       0., 0., 0., 0., 0., 0., 0., 0., 0., 0., 0., 0., 0., 0., 0., 0., 0.,\n",
       "       0., 0., 0., 0., 0., 0., 0., 0., 0., 0., 0., 0., 0., 0., 0., 0., 0.,\n",
       "       0., 0., 0., 0., 0., 0., 0., 0., 0., 0., 0., 0., 0., 0., 0., 0., 0.,\n",
       "       0., 0., 0., 0., 0., 0., 0., 0., 0., 0., 0., 0., 0., 0., 0., 0., 0.,\n",
       "       0., 0., 0., 0., 0., 0., 0., 0., 0., 0., 0., 0., 0., 0., 0., 0., 0.,\n",
       "       0., 0., 0., 0., 0., 0., 0., 0., 0., 0., 0., 0., 0., 0., 0., 0., 0.,\n",
       "       0., 0., 0., 0., 0., 0., 0., 0., 0., 0., 0., 0., 0., 0., 0., 0., 0.,\n",
       "       0., 0., 0., 0., 0., 0., 0., 0., 0., 0., 0., 0., 0., 0., 0., 0., 0.,\n",
       "       0., 0., 0., 0., 0., 0., 0., 0., 0., 0., 0., 0., 0., 0., 0., 0., 0.,\n",
       "       0., 0., 0., 0., 0., 0., 0., 0., 0., 0., 0., 0., 0., 0., 0., 0., 0.,\n",
       "       0., 0., 0., 0., 0., 0., 0., 0., 0., 0., 0.], dtype=float32)"
      ]
     },
     "execution_count": 20,
     "metadata": {},
     "output_type": "execute_result"
    }
   ],
   "source": [
    "biases"
   ]
  },
  {
   "cell_type": "code",
   "execution_count": 21,
   "metadata": {},
   "outputs": [
    {
     "data": {
      "text/plain": [
       "(300,)"
      ]
     },
     "execution_count": 21,
     "metadata": {},
     "output_type": "execute_result"
    }
   ],
   "source": [
    "biases.shape"
   ]
  },
  {
   "cell_type": "code",
   "execution_count": 24,
   "metadata": {},
   "outputs": [],
   "source": [
    "# keras knows the shape of the weight matrix because we provided the input shape when creating the first layer if we do not provide the input shape keras will wait until it knows the input shape before it creates the model this will happen during training or when we call its build() method\n",
    "# after model is created we must compile the model and specify the loss function and the optimizer to use we can also specify a list of extra metrics to compute during training and evaluation\n",
    "model.compile(\n",
    "    loss=\"sparse_categorical_crossentropy\", optimizer=\"sgd\", metrics=[\"accuracy\"]\n",
    ")\n",
    "# we use sparse_categorical_crossentropy because we have sparse labels and the classes are exclusive\n",
    "# if we want to convert sparse labels to one hot vectors we can use keras.utils.to_categorical() function to go the other way we can use np.argmax() function with axis=1\n",
    "# when using SGD optimizer it is important to ture the learning rate so we generally want to use optimzer=tf.keras.optimizers.SGD(lr=???) rather than optimizer=\"sgd\" which defaults to lr=0.01"
   ]
  },
  {
   "cell_type": "code",
   "execution_count": 25,
   "metadata": {},
   "outputs": [
    {
     "name": "stdout",
     "output_type": "stream",
     "text": [
      "Epoch 1/30\n",
      "1719/1719 [==============================] - 4s 2ms/step - loss: 0.7239 - accuracy: 0.7616 - val_loss: 0.5026 - val_accuracy: 0.8298\n",
      "Epoch 2/30\n",
      "1719/1719 [==============================] - 3s 2ms/step - loss: 0.4889 - accuracy: 0.8305 - val_loss: 0.4498 - val_accuracy: 0.8368\n",
      "Epoch 3/30\n",
      "1719/1719 [==============================] - 4s 2ms/step - loss: 0.4419 - accuracy: 0.8442 - val_loss: 0.4217 - val_accuracy: 0.8546\n",
      "Epoch 4/30\n",
      "1719/1719 [==============================] - 3s 2ms/step - loss: 0.4164 - accuracy: 0.8537 - val_loss: 0.3935 - val_accuracy: 0.8596\n",
      "Epoch 5/30\n",
      "1719/1719 [==============================] - 3s 2ms/step - loss: 0.3953 - accuracy: 0.8615 - val_loss: 0.3901 - val_accuracy: 0.8622\n",
      "Epoch 6/30\n",
      "1719/1719 [==============================] - 3s 2ms/step - loss: 0.3788 - accuracy: 0.8668 - val_loss: 0.3902 - val_accuracy: 0.8640\n",
      "Epoch 7/30\n",
      "1719/1719 [==============================] - 3s 2ms/step - loss: 0.3663 - accuracy: 0.8697 - val_loss: 0.3661 - val_accuracy: 0.8676\n",
      "Epoch 8/30\n",
      "1719/1719 [==============================] - 3s 2ms/step - loss: 0.3548 - accuracy: 0.8747 - val_loss: 0.3731 - val_accuracy: 0.8634\n",
      "Epoch 9/30\n",
      "1719/1719 [==============================] - 4s 2ms/step - loss: 0.3444 - accuracy: 0.8779 - val_loss: 0.3476 - val_accuracy: 0.8734\n",
      "Epoch 10/30\n",
      "1719/1719 [==============================] - 4s 2ms/step - loss: 0.3340 - accuracy: 0.8807 - val_loss: 0.3492 - val_accuracy: 0.8744\n",
      "Epoch 11/30\n",
      "1719/1719 [==============================] - 4s 2ms/step - loss: 0.3252 - accuracy: 0.8831 - val_loss: 0.3667 - val_accuracy: 0.8664\n",
      "Epoch 12/30\n",
      "1719/1719 [==============================] - 4s 2ms/step - loss: 0.3172 - accuracy: 0.8866 - val_loss: 0.3482 - val_accuracy: 0.8726\n",
      "Epoch 13/30\n",
      "1719/1719 [==============================] - 4s 2ms/step - loss: 0.3097 - accuracy: 0.8895 - val_loss: 0.3286 - val_accuracy: 0.8810\n",
      "Epoch 14/30\n",
      "1719/1719 [==============================] - 4s 2ms/step - loss: 0.3023 - accuracy: 0.8904 - val_loss: 0.3368 - val_accuracy: 0.8804\n",
      "Epoch 15/30\n",
      "1719/1719 [==============================] - 5s 3ms/step - loss: 0.2961 - accuracy: 0.8945 - val_loss: 0.3350 - val_accuracy: 0.8792\n",
      "Epoch 16/30\n",
      "1719/1719 [==============================] - 5s 3ms/step - loss: 0.2889 - accuracy: 0.8964 - val_loss: 0.3229 - val_accuracy: 0.8844\n",
      "Epoch 17/30\n",
      "1719/1719 [==============================] - 5s 3ms/step - loss: 0.2835 - accuracy: 0.8972 - val_loss: 0.3341 - val_accuracy: 0.8788\n",
      "Epoch 18/30\n",
      "1719/1719 [==============================] - 5s 3ms/step - loss: 0.2779 - accuracy: 0.8999 - val_loss: 0.3207 - val_accuracy: 0.8832\n",
      "Epoch 19/30\n",
      "1719/1719 [==============================] - 5s 3ms/step - loss: 0.2724 - accuracy: 0.9011 - val_loss: 0.3456 - val_accuracy: 0.8706\n",
      "Epoch 20/30\n",
      "1719/1719 [==============================] - 4s 3ms/step - loss: 0.2677 - accuracy: 0.9031 - val_loss: 0.3137 - val_accuracy: 0.8892\n",
      "Epoch 21/30\n",
      "1719/1719 [==============================] - 5s 3ms/step - loss: 0.2627 - accuracy: 0.9057 - val_loss: 0.3130 - val_accuracy: 0.8886\n",
      "Epoch 22/30\n",
      "1719/1719 [==============================] - 4s 3ms/step - loss: 0.2576 - accuracy: 0.9073 - val_loss: 0.3127 - val_accuracy: 0.8866\n",
      "Epoch 23/30\n",
      "1719/1719 [==============================] - 4s 2ms/step - loss: 0.2533 - accuracy: 0.9098 - val_loss: 0.3423 - val_accuracy: 0.8766\n",
      "Epoch 24/30\n",
      "1719/1719 [==============================] - 4s 2ms/step - loss: 0.2478 - accuracy: 0.9113 - val_loss: 0.3176 - val_accuracy: 0.8844\n",
      "Epoch 25/30\n",
      "1719/1719 [==============================] - 4s 2ms/step - loss: 0.2438 - accuracy: 0.9119 - val_loss: 0.3146 - val_accuracy: 0.8844\n",
      "Epoch 26/30\n",
      "1719/1719 [==============================] - 4s 2ms/step - loss: 0.2401 - accuracy: 0.9152 - val_loss: 0.3121 - val_accuracy: 0.8870\n",
      "Epoch 27/30\n",
      "1719/1719 [==============================] - 4s 2ms/step - loss: 0.2352 - accuracy: 0.9153 - val_loss: 0.3170 - val_accuracy: 0.8880\n",
      "Epoch 28/30\n",
      "1719/1719 [==============================] - 4s 3ms/step - loss: 0.2321 - accuracy: 0.9161 - val_loss: 0.3067 - val_accuracy: 0.8920\n",
      "Epoch 29/30\n",
      "1719/1719 [==============================] - 4s 3ms/step - loss: 0.2285 - accuracy: 0.9182 - val_loss: 0.3151 - val_accuracy: 0.8832\n",
      "Epoch 30/30\n",
      "1719/1719 [==============================] - 4s 2ms/step - loss: 0.2248 - accuracy: 0.9202 - val_loss: 0.3032 - val_accuracy: 0.8888\n"
     ]
    }
   ],
   "source": [
    "# now we can train the model just using fit() method\n",
    "history = model.fit(X_train, y_train, epochs=30, validation_data=(X_valid, y_valid))"
   ]
  },
  {
   "cell_type": "code",
   "execution_count": 26,
   "metadata": {},
   "outputs": [
    {
     "data": {
      "text/plain": [
       "{'verbose': 1, 'epochs': 30, 'steps': 1719}"
      ]
     },
     "execution_count": 26,
     "metadata": {},
     "output_type": "execute_result"
    }
   ],
   "source": [
    "history.params"
   ]
  },
  {
   "cell_type": "code",
   "execution_count": 27,
   "metadata": {},
   "outputs": [
    {
     "name": "stdout",
     "output_type": "stream",
     "text": [
      "[0, 1, 2, 3, 4, 5, 6, 7, 8, 9, 10, 11, 12, 13, 14, 15, 16, 17, 18, 19, 20, 21, 22, 23, 24, 25, 26, 27, 28, 29]\n"
     ]
    }
   ],
   "source": [
    "print(history.epoch)"
   ]
  },
  {
   "cell_type": "code",
   "execution_count": 29,
   "metadata": {},
   "outputs": [
    {
     "data": {
      "image/png": "[encoded data removed]",
      "text/plain": [
       "<Figure size 800x500 with 1 Axes>"
      ]
     },
     "metadata": {},
     "output_type": "display_data"
    }
   ],
   "source": [
    "pd.DataFrame(history.history).plot(\n",
    "    figsize=(8, 5),\n",
    "    xlim=[0, 29],\n",
    "    ylim=[0, 1],\n",
    "    grid=True,\n",
    "    xlabel=\"Epoch\",\n",
    "    style=[\"r--\", \"r--\", \"b-\", \"b-*\"],\n",
    ")\n",
    "plt.show()"
   ]
  },
  {
   "cell_type": "code",
   "execution_count": 30,
   "metadata": {},
   "outputs": [
    {
     "name": "stdout",
     "output_type": "stream",
     "text": [
      "313/313 [==============================] - 0s 1ms/step - loss: 0.3231 - accuracy: 0.8848\n"
     ]
    },
    {
     "data": {
      "text/plain": [
       "[0.3231135606765747, 0.8848000168800354]"
      ]
     },
     "execution_count": 30,
     "metadata": {},
     "output_type": "execute_result"
    }
   ],
   "source": [
    "model.evaluate(X_test, y_test)"
   ]
  },
  {
   "cell_type": "code",
   "execution_count": 31,
   "metadata": {},
   "outputs": [
    {
     "name": "stdout",
     "output_type": "stream",
     "text": [
      "1/1 [==============================] - 0s 77ms/step\n"
     ]
    },
    {
     "data": {
      "text/plain": [
       "array([[0.  , 0.  , 0.  , 0.  , 0.  , 0.01, 0.  , 0.01, 0.  , 0.97],\n",
       "       [0.  , 0.  , 0.99, 0.  , 0.01, 0.  , 0.  , 0.  , 0.  , 0.  ],\n",
       "       [0.  , 1.  , 0.  , 0.  , 0.  , 0.  , 0.  , 0.  , 0.  , 0.  ]],\n",
       "      dtype=float32)"
      ]
     },
     "execution_count": 31,
     "metadata": {},
     "output_type": "execute_result"
    }
   ],
   "source": [
    "X_new = X_test[:3]\n",
    "y_proba = model.predict(X_new)\n",
    "y_proba.round(2)"
   ]
  },
  {
   "cell_type": "code",
   "execution_count": 32,
   "metadata": {},
   "outputs": [
    {
     "data": {
      "text/plain": [
       "array([9, 2, 1])"
      ]
     },
     "execution_count": 32,
     "metadata": {},
     "output_type": "execute_result"
    }
   ],
   "source": [
    "y_pred = y_proba.argmax(axis=1)\n",
    "y_pred"
   ]
  },
  {
   "cell_type": "code",
   "execution_count": 33,
   "metadata": {},
   "outputs": [
    {
     "data": {
      "text/plain": [
       "array(['Ankle boot', 'Pullover', 'Trouser'], dtype='<U11')"
      ]
     },
     "execution_count": 33,
     "metadata": {},
     "output_type": "execute_result"
    }
   ],
   "source": [
    "np.array(class_names)[y_pred]"
   ]
  },
  {
   "cell_type": "code",
   "execution_count": 35,
   "metadata": {},
   "outputs": [
    {
     "name": "stdout",
     "output_type": "stream",
     "text": [
      "Epoch 1/20\n",
      "363/363 [==============================] - 1s 2ms/step - loss: 0.8779 - root_mean_squared_error: 0.9370 - val_loss: 0.3927 - val_root_mean_squared_error: 0.6267\n",
      "Epoch 2/20\n",
      "363/363 [==============================] - 0s 1ms/step - loss: 0.3809 - root_mean_squared_error: 0.6172 - val_loss: 1.7274 - val_root_mean_squared_error: 1.3143\n",
      "Epoch 3/20\n",
      "363/363 [==============================] - 0s 1ms/step - loss: 0.3646 - root_mean_squared_error: 0.6038 - val_loss: 1.0083 - val_root_mean_squared_error: 1.0041\n",
      "Epoch 4/20\n",
      "363/363 [==============================] - 0s 1ms/step - loss: 0.3461 - root_mean_squared_error: 0.5883 - val_loss: 1.1610 - val_root_mean_squared_error: 1.0775\n",
      "Epoch 5/20\n",
      "363/363 [==============================] - 0s 1ms/step - loss: 0.3333 - root_mean_squared_error: 0.5773 - val_loss: 1.6537 - val_root_mean_squared_error: 1.2860\n",
      "Epoch 6/20\n",
      "363/363 [==============================] - 0s 1ms/step - loss: 0.3349 - root_mean_squared_error: 0.5787 - val_loss: 0.6499 - val_root_mean_squared_error: 0.8061\n",
      "Epoch 7/20\n",
      "363/363 [==============================] - 0s 1ms/step - loss: 0.3171 - root_mean_squared_error: 0.5631 - val_loss: 1.8228 - val_root_mean_squared_error: 1.3501\n",
      "Epoch 8/20\n",
      "363/363 [==============================] - 0s 1ms/step - loss: 0.3137 - root_mean_squared_error: 0.5601 - val_loss: 2.6617 - val_root_mean_squared_error: 1.6315\n",
      "Epoch 9/20\n",
      "363/363 [==============================] - 0s 1ms/step - loss: 0.3179 - root_mean_squared_error: 0.5638 - val_loss: 1.0525 - val_root_mean_squared_error: 1.0259\n",
      "Epoch 10/20\n",
      "363/363 [==============================] - 0s 1ms/step - loss: 0.3061 - root_mean_squared_error: 0.5533 - val_loss: 0.2960 - val_root_mean_squared_error: 0.5441\n",
      "Epoch 11/20\n",
      "363/363 [==============================] - 0s 1ms/step - loss: 0.2958 - root_mean_squared_error: 0.5439 - val_loss: 0.2837 - val_root_mean_squared_error: 0.5326\n",
      "Epoch 12/20\n",
      "363/363 [==============================] - 0s 1ms/step - loss: 0.2988 - root_mean_squared_error: 0.5466 - val_loss: 0.4534 - val_root_mean_squared_error: 0.6733\n",
      "Epoch 13/20\n",
      "363/363 [==============================] - 0s 1ms/step - loss: 0.2895 - root_mean_squared_error: 0.5380 - val_loss: 0.2957 - val_root_mean_squared_error: 0.5438\n",
      "Epoch 14/20\n",
      "363/363 [==============================] - 0s 1ms/step - loss: 0.2900 - root_mean_squared_error: 0.5385 - val_loss: 0.3047 - val_root_mean_squared_error: 0.5520\n",
      "Epoch 15/20\n",
      "363/363 [==============================] - 1s 1ms/step - loss: 0.2872 - root_mean_squared_error: 0.5359 - val_loss: 0.2963 - val_root_mean_squared_error: 0.5443\n",
      "Epoch 16/20\n",
      "363/363 [==============================] - 0s 1ms/step - loss: 0.2857 - root_mean_squared_error: 0.5345 - val_loss: 0.2964 - val_root_mean_squared_error: 0.5444\n",
      "Epoch 17/20\n",
      "363/363 [==============================] - 0s 1ms/step - loss: 0.2821 - root_mean_squared_error: 0.5312 - val_loss: 0.6471 - val_root_mean_squared_error: 0.8044\n",
      "Epoch 18/20\n",
      "363/363 [==============================] - 0s 1ms/step - loss: 0.2791 - root_mean_squared_error: 0.5283 - val_loss: 0.2872 - val_root_mean_squared_error: 0.5359\n",
      "Epoch 19/20\n",
      "363/363 [==============================] - 0s 1ms/step - loss: 0.2746 - root_mean_squared_error: 0.5240 - val_loss: 0.3944 - val_root_mean_squared_error: 0.6280\n",
      "Epoch 20/20\n",
      "363/363 [==============================] - 0s 1ms/step - loss: 0.2774 - root_mean_squared_error: 0.5267 - val_loss: 0.2742 - val_root_mean_squared_error: 0.5237\n",
      "162/162 [==============================] - 0s 779us/step - loss: 0.2816 - root_mean_squared_error: 0.5307\n",
      "1/1 [==============================] - 0s 58ms/step\n"
     ]
    }
   ],
   "source": [
    "# we now will train a regression MLP to predict housing prices using the california housing dataset\n",
    "# we are going to have a normalization layer as the first layer it does the same thing as StandardScaler but it must be fit to the training data using the adapt() method before calling fit() method\n",
    "housing = fetch_california_housing()\n",
    "X_train_full, X_test, y_train_full, y_test = train_test_split(\n",
    "    housing.data, housing.target, random_state=42\n",
    ")\n",
    "X_train, X_valid, y_train, y_valid = train_test_split(\n",
    "    X_train_full, y_train_full, random_state=42\n",
    ")\n",
    "\n",
    "norm_layer = tf.keras.layers.Normalization(input_shape=X_train.shape[1:])\n",
    "model = tf.keras.Sequential(\n",
    "    [\n",
    "        norm_layer,\n",
    "        tf.keras.layers.Dense(50, activation=\"relu\"),\n",
    "        tf.keras.layers.Dense(50, activation=\"relu\"),\n",
    "        tf.keras.layers.Dense(50, activation=\"relu\"),\n",
    "        tf.keras.layers.Dense(1),\n",
    "    ]\n",
    ")\n",
    "optimizer = tf.keras.optimizers.Adam(learning_rate=1e-3)\n",
    "model.compile(loss=\"mse\", optimizer=optimizer, metrics=[\"RootMeanSquaredError\"])\n",
    "norm_layer.adapt(X_train)\n",
    "history = model.fit(X_train, y_train, epochs=20, validation_data=(X_valid, y_valid))\n",
    "mse_test, rmse_test = model.evaluate(X_test, y_test)\n",
    "X_new = X_test[:3]\n",
    "y_pred = model.predict(X_new)"
   ]
  },
  {
   "cell_type": "code",
   "execution_count": 36,
   "metadata": {},
   "outputs": [
    {
     "data": {
      "text/plain": [
       "0.5306867361068726"
      ]
     },
     "execution_count": 36,
     "metadata": {},
     "output_type": "execute_result"
    }
   ],
   "source": [
    "rmse_test"
   ]
  },
  {
   "cell_type": "code",
   "execution_count": 37,
   "metadata": {},
   "outputs": [
    {
     "data": {
      "text/plain": [
       "array([[0.5366276],\n",
       "       [1.199072 ],\n",
       "       [5.404941 ]], dtype=float32)"
      ]
     },
     "execution_count": 37,
     "metadata": {},
     "output_type": "execute_result"
    }
   ],
   "source": [
    "y_pred"
   ]
  },
  {
   "cell_type": "code",
   "execution_count": 38,
   "metadata": {},
   "outputs": [],
   "source": [
    "tf.keras.backend.clear_session()\n",
    "tf.random.set_seed(42)"
   ]
  },
  {
   "cell_type": "code",
   "execution_count": 40,
   "metadata": {},
   "outputs": [],
   "source": [
    "# this is a wide and deep neural network it connects all or part of the inputs directly to the output layer it is capable of learning both deep patterns and simple rules\n",
    "normalization_layer = tf.keras.layers.Normalization()\n",
    "hidden_layer1 = tf.keras.layers.Dense(30, activation=\"relu\")\n",
    "hidden_layer2 = tf.keras.layers.Dense(30, activation=\"relu\")\n",
    "concat_layer = tf.keras.layers.Concatenate()\n",
    "output_layer = tf.keras.layers.Dense(1)\n",
    "\n",
    "input_ = tf.keras.layers.Input(shape=X_train.shape[1:])\n",
    "normalized = normalization_layer(input_)\n",
    "hidden1 = hidden_layer1(normalized)\n",
    "hidden2 = hidden_layer2(hidden1)\n",
    "concat = concat_layer([normalized, hidden2])\n",
    "output = output_layer(concat)\n",
    "\n",
    "model = tf.keras.models.Model(inputs=[input_], outputs=[output])"
   ]
  },
  {
   "cell_type": "code",
   "execution_count": 41,
   "metadata": {},
   "outputs": [
    {
     "name": "stdout",
     "output_type": "stream",
     "text": [
      "Model: \"model\"\n",
      "__________________________________________________________________________________________________\n",
      " Layer (type)                   Output Shape         Param #     Connected to                     \n",
      "==================================================================================================\n",
      " input_1 (InputLayer)           [(None, 8)]          0           []                               \n",
      "                                                                                                  \n",
      " normalization_1 (Normalization  (None, 8)           17          ['input_1[0][0]']                \n",
      " )                                                                                                \n",
      "                                                                                                  \n",
      " dense (Dense)                  (None, 30)           270         ['normalization_1[0][0]']        \n",
      "                                                                                                  \n",
      " dense_1 (Dense)                (None, 30)           930         ['dense[0][0]']                  \n",
      "                                                                                                  \n",
      " concatenate (Concatenate)      (None, 38)           0           ['normalization_1[0][0]',        \n",
      "                                                                  'dense_1[0][0]']                \n",
      "                                                                                                  \n",
      " dense_2 (Dense)                (None, 1)            39          ['concatenate[0][0]']            \n",
      "                                                                                                  \n",
      "==================================================================================================\n",
      "Total params: 1,256\n",
      "Trainable params: 1,239\n",
      "Non-trainable params: 17\n",
      "__________________________________________________________________________________________________\n"
     ]
    }
   ],
   "source": [
    "model.summary()"
   ]
  },
  {
   "cell_type": "code",
   "execution_count": 44,
   "metadata": {},
   "outputs": [],
   "source": [
    "# to send a subset of the features through the wide path and a different subset through the deep path we can use multiple inputs\n",
    "input_wide = tf.keras.layers.Input(shape=[5])\n",
    "input_deep = tf.keras.layers.Input(shape=[6])\n",
    "norm_layer_wide = tf.keras.layers.Normalization()\n",
    "norm_layer_deep = tf.keras.layers.Normalization()\n",
    "norm_wide = norm_layer_wide(input_wide)\n",
    "norm_deep = norm_layer_deep(input_deep)\n",
    "hidden1 = tf.keras.layers.Dense(30, activation=\"relu\")(norm_deep)\n",
    "hidden2 = tf.keras.layers.Dense(30, activation=\"relu\")(hidden1)\n",
    "concat = tf.keras.layers.Concatenate()([norm_wide, hidden2])\n",
    "output = tf.keras.layers.Dense(1)(concat)\n",
    "model = tf.keras.Model(inputs=[input_wide, input_deep], outputs=[output])"
   ]
  },
  {
   "cell_type": "code",
   "execution_count": 45,
   "metadata": {},
   "outputs": [
    {
     "name": "stdout",
     "output_type": "stream",
     "text": [
      "Epoch 1/20\n",
      "363/363 [==============================] - 1s 2ms/step - loss: 1.3750 - root_mean_squared_error: 1.1726 - val_loss: 0.8934 - val_root_mean_squared_error: 0.9452\n",
      "Epoch 2/20\n",
      "363/363 [==============================] - 0s 1ms/step - loss: 0.5324 - root_mean_squared_error: 0.7297 - val_loss: 0.6164 - val_root_mean_squared_error: 0.7851\n",
      "Epoch 3/20\n",
      "363/363 [==============================] - 0s 1ms/step - loss: 0.4633 - root_mean_squared_error: 0.6807 - val_loss: 0.6071 - val_root_mean_squared_error: 0.7792\n",
      "Epoch 4/20\n",
      "363/363 [==============================] - 0s 1ms/step - loss: 0.4351 - root_mean_squared_error: 0.6596 - val_loss: 0.5608 - val_root_mean_squared_error: 0.7489\n",
      "Epoch 5/20\n",
      "363/363 [==============================] - 0s 1ms/step - loss: 0.4158 - root_mean_squared_error: 0.6448 - val_loss: 0.3886 - val_root_mean_squared_error: 0.6234\n",
      "Epoch 6/20\n",
      "363/363 [==============================] - 0s 1ms/step - loss: 0.3969 - root_mean_squared_error: 0.6300 - val_loss: 0.5437 - val_root_mean_squared_error: 0.7374\n",
      "Epoch 7/20\n",
      "363/363 [==============================] - 0s 1ms/step - loss: 0.3880 - root_mean_squared_error: 0.6229 - val_loss: 0.6329 - val_root_mean_squared_error: 0.7955\n",
      "Epoch 8/20\n",
      "363/363 [==============================] - 0s 1ms/step - loss: 0.3776 - root_mean_squared_error: 0.6145 - val_loss: 1.9420 - val_root_mean_squared_error: 1.3936\n",
      "Epoch 9/20\n",
      "363/363 [==============================] - 0s 1ms/step - loss: 0.3735 - root_mean_squared_error: 0.6111 - val_loss: 2.8747 - val_root_mean_squared_error: 1.6955\n",
      "Epoch 10/20\n",
      "363/363 [==============================] - 0s 1ms/step - loss: 0.3906 - root_mean_squared_error: 0.6250 - val_loss: 0.9145 - val_root_mean_squared_error: 0.9563\n",
      "Epoch 11/20\n",
      "363/363 [==============================] - 0s 1ms/step - loss: 0.3597 - root_mean_squared_error: 0.5997 - val_loss: 0.5323 - val_root_mean_squared_error: 0.7296\n",
      "Epoch 12/20\n",
      "363/363 [==============================] - 0s 1ms/step - loss: 0.3578 - root_mean_squared_error: 0.5982 - val_loss: 0.5106 - val_root_mean_squared_error: 0.7145\n",
      "Epoch 13/20\n",
      "363/363 [==============================] - 0s 1ms/step - loss: 0.3511 - root_mean_squared_error: 0.5926 - val_loss: 0.7301 - val_root_mean_squared_error: 0.8545\n",
      "Epoch 14/20\n",
      "363/363 [==============================] - 0s 1ms/step - loss: 0.3515 - root_mean_squared_error: 0.5929 - val_loss: 1.0026 - val_root_mean_squared_error: 1.0013\n",
      "Epoch 15/20\n",
      "363/363 [==============================] - 1s 1ms/step - loss: 0.3478 - root_mean_squared_error: 0.5897 - val_loss: 1.2335 - val_root_mean_squared_error: 1.1106\n",
      "Epoch 16/20\n",
      "363/363 [==============================] - 0s 1ms/step - loss: 0.3478 - root_mean_squared_error: 0.5897 - val_loss: 0.8425 - val_root_mean_squared_error: 0.9179\n",
      "Epoch 17/20\n",
      "363/363 [==============================] - 0s 1ms/step - loss: 0.3450 - root_mean_squared_error: 0.5873 - val_loss: 0.8979 - val_root_mean_squared_error: 0.9476\n",
      "Epoch 18/20\n",
      "363/363 [==============================] - 0s 1ms/step - loss: 0.3398 - root_mean_squared_error: 0.5829 - val_loss: 0.4580 - val_root_mean_squared_error: 0.6768\n",
      "Epoch 19/20\n",
      "363/363 [==============================] - 0s 1ms/step - loss: 0.3378 - root_mean_squared_error: 0.5812 - val_loss: 0.4469 - val_root_mean_squared_error: 0.6685\n",
      "Epoch 20/20\n",
      "363/363 [==============================] - 0s 1ms/step - loss: 0.3376 - root_mean_squared_error: 0.5811 - val_loss: 0.3483 - val_root_mean_squared_error: 0.5902\n",
      "162/162 [==============================] - 0s 896us/step - loss: 0.3292 - root_mean_squared_error: 0.5738\n",
      "1/1 [==============================] - 0s 61ms/step\n"
     ]
    }
   ],
   "source": [
    "# each dense layer is created and caled on the same line this is a common practice as it make the code more concise without losing clarity. we cant do this with the normalization layers because we nee a reference to the layer to be able to call its adapt() method later\n",
    "# we use tf.keras.layers.concatenate() whih creates a concatenate layer and calls it with the given inputs\n",
    "# we then compile the model as usual but when the fit() method is called we must pass a pair of matrices (X_train_A, X_train_B) one per input\n",
    "optimizer = tf.keras.optimizers.Adam(learning_rate=1e-3)\n",
    "model.compile(loss=\"mse\", optimizer=optimizer, metrics=[\"RootMeanSquaredError\"])\n",
    "\n",
    "X_train_wide, X_train_deep = X_train[:, :5], X_train[:, 2:]\n",
    "X_valid_wide, X_valid_deep = X_valid[:, :5], X_valid[:, 2:]\n",
    "X_test_wide, X_test_deep = X_test[:, :5], X_test[:, 2:]\n",
    "X_new_wide, X_new_deep = X_test_wide[:3], X_test_deep[:3]\n",
    "\n",
    "norm_layer_wide.adapt(X_train_wide)\n",
    "norm_layer_deep.adapt(X_train_deep)\n",
    "history = model.fit(\n",
    "    (X_train_wide, X_train_deep),\n",
    "    y_train,\n",
    "    epochs=20,\n",
    "    validation_data=((X_valid_wide, X_valid_deep), y_valid),\n",
    ")\n",
    "mse_test = model.evaluate((X_test_wide, X_test_deep), y_test)\n",
    "y_pred = model.predict((X_new_wide, X_new_deep))"
   ]
  },
  {
   "cell_type": "code",
   "execution_count": 46,
   "metadata": {},
   "outputs": [],
   "source": [
    "input_wide = tf.keras.layers.Input(shape=[5])  # features 0 to 4\n",
    "input_deep = tf.keras.layers.Input(shape=[6])  # features 2 to 7\n",
    "norm_layer_wide = tf.keras.layers.Normalization()\n",
    "norm_layer_deep = tf.keras.layers.Normalization()\n",
    "norm_wide = norm_layer_wide(input_wide)\n",
    "norm_deep = norm_layer_deep(input_deep)\n",
    "hidden1 = tf.keras.layers.Dense(30, activation=\"relu\")(norm_deep)\n",
    "hidden2 = tf.keras.layers.Dense(30, activation=\"relu\")(hidden1)\n",
    "concat = tf.keras.layers.concatenate([norm_wide, hidden2])\n",
    "output = tf.keras.layers.Dense(1)(concat)\n",
    "aux_output = tf.keras.layers.Dense(1)(hidden2)\n",
    "model = tf.keras.Model(inputs=[input_wide, input_deep], outputs=[output, aux_output])"
   ]
  },
  {
   "cell_type": "code",
   "execution_count": 47,
   "metadata": {},
   "outputs": [],
   "source": [
    "optimizer = tf.keras.optimizers.Adam(learning_rate=1e-3)\n",
    "model.compile(\n",
    "    loss=(\"mse\", \"mse\"),\n",
    "    loss_weights=(0.9, 0.1),\n",
    "    optimizer=optimizer,\n",
    "    metrics=[\"RootMeanSquaredError\"],\n",
    ")"
   ]
  },
  {
   "cell_type": "code",
   "execution_count": 48,
   "metadata": {},
   "outputs": [
    {
     "name": "stdout",
     "output_type": "stream",
     "text": [
      "Epoch 1/20\n",
      "363/363 [==============================] - 2s 2ms/step - loss: 1.7683 - dense_8_loss: 1.7092 - dense_9_loss: 2.2999 - dense_8_root_mean_squared_error: 1.3074 - dense_9_root_mean_squared_error: 1.5165 - val_loss: 0.6376 - val_dense_8_loss: 0.5974 - val_dense_9_loss: 0.9991 - val_dense_8_root_mean_squared_error: 0.7729 - val_dense_9_root_mean_squared_error: 0.9995\n",
      "Epoch 2/20\n",
      "363/363 [==============================] - 1s 1ms/step - loss: 0.5241 - dense_8_loss: 0.5003 - dense_9_loss: 0.7386 - dense_8_root_mean_squared_error: 0.7073 - dense_9_root_mean_squared_error: 0.8594 - val_loss: 0.7458 - val_dense_8_loss: 0.7570 - val_dense_9_loss: 0.6443 - val_dense_8_root_mean_squared_error: 0.8701 - val_dense_9_root_mean_squared_error: 0.8027\n",
      "Epoch 3/20\n",
      "363/363 [==============================] - 1s 2ms/step - loss: 0.4495 - dense_8_loss: 0.4349 - dense_9_loss: 0.5808 - dense_8_root_mean_squared_error: 0.6595 - dense_9_root_mean_squared_error: 0.7621 - val_loss: 0.4560 - val_dense_8_loss: 0.4442 - val_dense_9_loss: 0.5620 - val_dense_8_root_mean_squared_error: 0.6665 - val_dense_9_root_mean_squared_error: 0.7497\n",
      "Epoch 4/20\n",
      "363/363 [==============================] - 1s 2ms/step - loss: 0.4193 - dense_8_loss: 0.4066 - dense_9_loss: 0.5343 - dense_8_root_mean_squared_error: 0.6376 - dense_9_root_mean_squared_error: 0.7310 - val_loss: 0.5292 - val_dense_8_loss: 0.5021 - val_dense_9_loss: 0.7731 - val_dense_8_root_mean_squared_error: 0.7086 - val_dense_9_root_mean_squared_error: 0.8793\n",
      "Epoch 5/20\n",
      "363/363 [==============================] - 1s 2ms/step - loss: 0.4017 - dense_8_loss: 0.3901 - dense_9_loss: 0.5062 - dense_8_root_mean_squared_error: 0.6245 - dense_9_root_mean_squared_error: 0.7115 - val_loss: 0.5442 - val_dense_8_loss: 0.5228 - val_dense_9_loss: 0.7369 - val_dense_8_root_mean_squared_error: 0.7231 - val_dense_9_root_mean_squared_error: 0.8584\n",
      "Epoch 6/20\n",
      "363/363 [==============================] - 1s 2ms/step - loss: 0.3874 - dense_8_loss: 0.3761 - dense_9_loss: 0.4897 - dense_8_root_mean_squared_error: 0.6133 - dense_9_root_mean_squared_error: 0.6998 - val_loss: 0.8874 - val_dense_8_loss: 0.8540 - val_dense_9_loss: 1.1884 - val_dense_8_root_mean_squared_error: 0.9241 - val_dense_9_root_mean_squared_error: 1.0901\n",
      "Epoch 7/20\n",
      "363/363 [==============================] - 1s 2ms/step - loss: 0.3853 - dense_8_loss: 0.3744 - dense_9_loss: 0.4835 - dense_8_root_mean_squared_error: 0.6118 - dense_9_root_mean_squared_error: 0.6954 - val_loss: 0.9212 - val_dense_8_loss: 0.9563 - val_dense_9_loss: 0.6051 - val_dense_8_root_mean_squared_error: 0.9779 - val_dense_9_root_mean_squared_error: 0.7779\n",
      "Epoch 8/20\n",
      "363/363 [==============================] - 1s 2ms/step - loss: 0.3718 - dense_8_loss: 0.3614 - dense_9_loss: 0.4656 - dense_8_root_mean_squared_error: 0.6011 - dense_9_root_mean_squared_error: 0.6824 - val_loss: 0.4100 - val_dense_8_loss: 0.3925 - val_dense_9_loss: 0.5673 - val_dense_8_root_mean_squared_error: 0.6265 - val_dense_9_root_mean_squared_error: 0.7532\n",
      "Epoch 9/20\n",
      "363/363 [==============================] - 1s 2ms/step - loss: 0.3670 - dense_8_loss: 0.3565 - dense_9_loss: 0.4611 - dense_8_root_mean_squared_error: 0.5971 - dense_9_root_mean_squared_error: 0.6791 - val_loss: 1.5094 - val_dense_8_loss: 1.5097 - val_dense_9_loss: 1.5067 - val_dense_8_root_mean_squared_error: 1.2287 - val_dense_9_root_mean_squared_error: 1.2275\n",
      "Epoch 10/20\n",
      "363/363 [==============================] - 1s 2ms/step - loss: 0.3753 - dense_8_loss: 0.3658 - dense_9_loss: 0.4610 - dense_8_root_mean_squared_error: 0.6048 - dense_9_root_mean_squared_error: 0.6790 - val_loss: 2.3839 - val_dense_8_loss: 2.4076 - val_dense_9_loss: 2.1709 - val_dense_8_root_mean_squared_error: 1.5516 - val_dense_9_root_mean_squared_error: 1.4734\n",
      "Epoch 11/20\n",
      "363/363 [==============================] - 1s 2ms/step - loss: 0.3693 - dense_8_loss: 0.3602 - dense_9_loss: 0.4508 - dense_8_root_mean_squared_error: 0.6002 - dense_9_root_mean_squared_error: 0.6714 - val_loss: 0.6401 - val_dense_8_loss: 0.6210 - val_dense_9_loss: 0.8119 - val_dense_8_root_mean_squared_error: 0.7880 - val_dense_9_root_mean_squared_error: 0.9011\n",
      "Epoch 12/20\n",
      "363/363 [==============================] - 1s 2ms/step - loss: 0.3697 - dense_8_loss: 0.3606 - dense_9_loss: 0.4516 - dense_8_root_mean_squared_error: 0.6005 - dense_9_root_mean_squared_error: 0.6720 - val_loss: 0.8663 - val_dense_8_loss: 0.8580 - val_dense_9_loss: 0.9411 - val_dense_8_root_mean_squared_error: 0.9263 - val_dense_9_root_mean_squared_error: 0.9701\n",
      "Epoch 13/20\n",
      "363/363 [==============================] - 1s 2ms/step - loss: 0.3543 - dense_8_loss: 0.3457 - dense_9_loss: 0.4315 - dense_8_root_mean_squared_error: 0.5880 - dense_9_root_mean_squared_error: 0.6569 - val_loss: 0.4019 - val_dense_8_loss: 0.3931 - val_dense_9_loss: 0.4811 - val_dense_8_root_mean_squared_error: 0.6270 - val_dense_9_root_mean_squared_error: 0.6936\n",
      "Epoch 14/20\n",
      "363/363 [==============================] - 1s 2ms/step - loss: 0.3505 - dense_8_loss: 0.3422 - dense_9_loss: 0.4255 - dense_8_root_mean_squared_error: 0.5850 - dense_9_root_mean_squared_error: 0.6523 - val_loss: 0.4586 - val_dense_8_loss: 0.4536 - val_dense_9_loss: 0.5039 - val_dense_8_root_mean_squared_error: 0.6735 - val_dense_9_root_mean_squared_error: 0.7098\n",
      "Epoch 15/20\n",
      "363/363 [==============================] - 1s 2ms/step - loss: 0.3492 - dense_8_loss: 0.3415 - dense_9_loss: 0.4183 - dense_8_root_mean_squared_error: 0.5844 - dense_9_root_mean_squared_error: 0.6468 - val_loss: 0.6162 - val_dense_8_loss: 0.6167 - val_dense_9_loss: 0.6115 - val_dense_8_root_mean_squared_error: 0.7853 - val_dense_9_root_mean_squared_error: 0.7820\n",
      "Epoch 16/20\n",
      "363/363 [==============================] - 1s 1ms/step - loss: 0.3451 - dense_8_loss: 0.3375 - dense_9_loss: 0.4136 - dense_8_root_mean_squared_error: 0.5810 - dense_9_root_mean_squared_error: 0.6431 - val_loss: 0.6308 - val_dense_8_loss: 0.5918 - val_dense_9_loss: 0.9810 - val_dense_8_root_mean_squared_error: 0.7693 - val_dense_9_root_mean_squared_error: 0.9905\n",
      "Epoch 17/20\n",
      "363/363 [==============================] - 1s 1ms/step - loss: 0.3458 - dense_8_loss: 0.3380 - dense_9_loss: 0.4158 - dense_8_root_mean_squared_error: 0.5814 - dense_9_root_mean_squared_error: 0.6448 - val_loss: 0.3841 - val_dense_8_loss: 0.3804 - val_dense_9_loss: 0.4172 - val_dense_8_root_mean_squared_error: 0.6168 - val_dense_9_root_mean_squared_error: 0.6459\n",
      "Epoch 18/20\n",
      "363/363 [==============================] - 1s 1ms/step - loss: 0.3401 - dense_8_loss: 0.3329 - dense_9_loss: 0.4052 - dense_8_root_mean_squared_error: 0.5770 - dense_9_root_mean_squared_error: 0.6366 - val_loss: 3.1588 - val_dense_8_loss: 3.0072 - val_dense_9_loss: 4.5237 - val_dense_8_root_mean_squared_error: 1.7341 - val_dense_9_root_mean_squared_error: 2.1269\n",
      "Epoch 19/20\n",
      "363/363 [==============================] - 1s 1ms/step - loss: 0.3521 - dense_8_loss: 0.3443 - dense_9_loss: 0.4214 - dense_8_root_mean_squared_error: 0.5868 - dense_9_root_mean_squared_error: 0.6492 - val_loss: 2.0726 - val_dense_8_loss: 2.0698 - val_dense_9_loss: 2.0978 - val_dense_8_root_mean_squared_error: 1.4387 - val_dense_9_root_mean_squared_error: 1.4484\n",
      "Epoch 20/20\n",
      "363/363 [==============================] - 1s 1ms/step - loss: 0.3536 - dense_8_loss: 0.3466 - dense_9_loss: 0.4169 - dense_8_root_mean_squared_error: 0.5887 - dense_9_root_mean_squared_error: 0.6456 - val_loss: 0.7429 - val_dense_8_loss: 0.6955 - val_dense_9_loss: 1.1688 - val_dense_8_root_mean_squared_error: 0.8340 - val_dense_9_root_mean_squared_error: 1.0811\n"
     ]
    }
   ],
   "source": [
    "norm_layer_wide.adapt(X_train_wide)\n",
    "norm_layer_deep.adapt(X_train_deep)\n",
    "history = model.fit(\n",
    "    (X_train_wide, X_train_deep),\n",
    "    (y_train, y_train),\n",
    "    epochs=20,\n",
    "    validation_data=((X_valid_wide, X_valid_deep), (y_valid, y_valid)),\n",
    ")"
   ]
  },
  {
   "cell_type": "code",
   "execution_count": 49,
   "metadata": {},
   "outputs": [
    {
     "name": "stdout",
     "output_type": "stream",
     "text": [
      "162/162 [==============================] - 0s 1ms/step - loss: 0.3358 - dense_8_loss: 0.3270 - dense_9_loss: 0.4153 - dense_8_root_mean_squared_error: 0.5718 - dense_9_root_mean_squared_error: 0.6444\n"
     ]
    }
   ],
   "source": [
    "eval_results = model.evaluate((X_test_wide, X_test_deep), (y_test, y_test))\n",
    "weighted_sum_of_losses, main_loss, aux_loss, main_rmse, aux_rmse = eval_results"
   ]
  },
  {
   "cell_type": "code",
   "execution_count": 50,
   "metadata": {},
   "outputs": [
    {
     "name": "stdout",
     "output_type": "stream",
     "text": [
      "WARNING:tensorflow:5 out of the last 5 calls to <function Model.make_predict_function.<locals>.predict_function at 0x13dd54860> triggered tf.function retracing. Tracing is expensive and the excessive number of tracings could be due to (1) creating @tf.function repeatedly in a loop, (2) passing tensors with different shapes, (3) passing Python objects instead of tensors. For (1), please define your @tf.function outside of the loop. For (2), @tf.function has reduce_retracing=True option that can avoid unnecessary retracing. For (3), please refer to https://www.tensorflow.org/guide/function#controlling_retracing and https://www.tensorflow.org/api_docs/python/tf/function for  more details.\n",
      "1/1 [==============================] - 0s 118ms/step\n"
     ]
    }
   ],
   "source": [
    "y_pred_main, y_pred_aux = model.predict((X_new_wide, X_new_deep))"
   ]
  },
  {
   "cell_type": "code",
   "execution_count": 52,
   "metadata": {},
   "outputs": [
    {
     "name": "stdout",
     "output_type": "stream",
     "text": [
      "1/1 [==============================] - 0s 26ms/step\n"
     ]
    },
    {
     "data": {
      "text/plain": [
       "{'dense_8': array([[0.3887573],\n",
       "        [1.086349 ],\n",
       "        [3.540136 ]], dtype=float32),\n",
       " 'dense_9': array([[0.53970915],\n",
       "        [1.0927747 ],\n",
       "        [3.4391074 ]], dtype=float32)}"
      ]
     },
     "execution_count": 52,
     "metadata": {},
     "output_type": "execute_result"
    }
   ],
   "source": [
    "# to create a dictionary as a return you can use the following\n",
    "y_pred_tuple = model.predict((X_new_wide, X_new_deep))\n",
    "y_pred = dict(zip(model.output_names, y_pred_tuple))\n",
    "y_pred"
   ]
  },
  {
   "cell_type": "code",
   "execution_count": null,
   "metadata": {},
   "outputs": [],
   "source": []
  }
 ],
 "metadata": {
  "kernelspec": {
   "display_name": "ML",
   "language": "python",
   "name": "python3"
  },
  "language_info": {
   "codemirror_mode": {
    "name": "ipython",
    "version": 3
   },
   "file_extension": ".py",
   "mimetype": "text/x-python",
   "name": "python",
   "nbconvert_exporter": "python",
   "pygments_lexer": "ipython3",
   "version": "3.11.3"
  },
  "orig_nbformat": 4
 },
 "nbformat": 4,
 "nbformat_minor": 2
}
